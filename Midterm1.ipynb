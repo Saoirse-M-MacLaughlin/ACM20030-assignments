{
 "cells": [
  {
   "cell_type": "markdown",
   "metadata": {},
   "source": [
    "# ACM20030 - Midterm 1\n",
    "\n",
    "This midterm exam starts at 2pm on Thursday 2nd of April and lasts **50 minutes**. Five additional minutes are given either side for you to download, complete and upload the Midterm1.ipynb to BrightSpace by 3pm.\n",
    "\n",
    "Save your notebook regularly as you are solving the problems.\n",
    "\n",
    "I recommend you have a pen and paper handy to make small calculations (these do not need to be handed in).\n",
    "\n",
    "The marks for each question are given in square brackets at the start of each question. The total marks for the test is 50.\n",
    "\n",
    "You must complete the test indivudually. No contact with other class members, or anyone else, is allowed during the test.\n",
    "\n",
    "When you finish the test you must upload your completed `Midterm1.ipynb` to BrightSpace. You can find the place to upload the file under the Assessments Tab -> Midterm1.\n",
    "\n",
    "If there are any issues with uploading the midterm to BrightSpace. Please email me your completed Midterm1.ipynb before 3pm. My email address is niels.warburton@ucd.ie. Please include your student number if you email the test to me.\n",
    "\n",
    "---\n",
    "\n",
    "If you find it useful to do so you may view the [course examples](https://github.com/nielsw2/ACM20030-Examples) for reference. You may also view the NumPy and Matplotlib documentation if you want.  You should not use the internet to search for solutions. It is usually quite obvious when a student hands in code they have copied from, e.g., StackExchange. Please do not do this. If you hand in an answer that is copied from a webpage you will receive zero marks for that entire question.\n",
    "\n",
    "You **may not** use any other Python libraries other than NumPy and Matplotlib. \n",
    "\n",
    "Please enter your student number in the cell below and run the two cells below that to load the libraries."
   ]
  },
  {
   "cell_type": "code",
   "execution_count": 1,
   "metadata": {},
   "outputs": [],
   "source": [
    "# Enter student number below\n",
    "#18306281"
   ]
  },
  {
   "cell_type": "code",
   "execution_count": 2,
   "metadata": {},
   "outputs": [],
   "source": [
    "# Import NumPy and matplotlib\n",
    "import numpy as np\n",
    "import matplotlib.pyplot as plt"
   ]
  },
  {
   "cell_type": "code",
   "execution_count": 28,
   "metadata": {},
   "outputs": [],
   "source": [
    "# The below two lines set the default size and font size for matplotlib\n",
    "plt.rcParams['figure.figsize'] = (16.0, 10.0)\n",
    "plt.rcParams.update({'font.size': 22})"
   ]
  },
  {
   "cell_type": "markdown",
   "metadata": {},
   "source": [
    "# Question 1: plotting\n",
    "\n",
    "Plot the following functions. Take note of the required range and formatting."
   ]
  },
  {
   "cell_type": "markdown",
   "metadata": {},
   "source": [
    "## Q1a [2 marks]\n",
    "\n",
    "Plot \n",
    "\n",
    "$$f(x) = \\cos(x) - 2\\sin(2x)$$\n",
    "\n",
    "in the range $x = 0\\dots9$. Label both axes and put a grid on the plot."
   ]
  },
  {
   "cell_type": "code",
   "execution_count": 4,
   "metadata": {},
   "outputs": [
    {
     "data": {
      "image/png": "[encoded data removed]",
      "text/plain": [
       "<Figure size 432x288 with 1 Axes>"
      ]
     },
     "metadata": {
      "needs_background": "light"
     },
     "output_type": "display_data"
    }
   ],
   "source": [
    "def f(x):\n",
    "    return np.cos(x) - 2*np.sin(2*x)\n",
    "\n",
    "x = np.linspace(0,9)\n",
    "\n",
    "plt.plot(x,f(x),'ro')\n",
    "#Title and Axes\n",
    "plt.title ('f(x) plot')\n",
    "plt.ylabel('f(x)')\n",
    "plt.xlabel('x')\n",
    "#Include gridlines\n",
    "plt.grid(True)"
   ]
  },
  {
   "cell_type": "markdown",
   "metadata": {},
   "source": [
    "## Q1b [4 marks]\n",
    "\n",
    "Plot $$g(x) = x^3 - 2x^2 -5x + 6$$\n",
    "\n",
    "in the range $x=-2.5\\dots 4$. Use a grid when making the plot.\n",
    "\n",
    "On the same figure plot the tangent to $g(x)$ at $x=-1$. Plot the tanget between $x=-2\\dots0$ and add a legend labeling the function and the tangent."
   ]
  },
  {
   "cell_type": "code",
   "execution_count": 32,
   "metadata": {},
   "outputs": [
    {
     "data": {
      "image/png": "[encoded data removed]",
      "text/plain": [
       "<Figure size 432x288 with 1 Axes>"
      ]
     },
     "metadata": {
      "needs_background": "light"
     },
     "output_type": "display_data"
    }
   ],
   "source": [
    "def g(x):\n",
    "    return x**3 - 2*(x**2) - 5*x +6\n",
    "\n",
    "\n",
    "def dg(x):\n",
    "    return 2*x + 10\n",
    "x = np.linspace(-2.5,4)\n",
    "\n",
    "plt.plot(x,g(x), label = 'g(x)')\n",
    "plt.plot(x,dg(x), label = 'tangent at x = -1')\n",
    "#Title and Axes\n",
    "plt.title ('g(x) plot with g(x) tangent')\n",
    "plt.ylabel('g(x)')\n",
    "plt.xlabel('x')\n",
    "plt.xlim(-3,4.5)\n",
    "plt.legend()\n",
    "#Include gridlines\n",
    "plt.grid(True)"
   ]
  },
  {
   "cell_type": "markdown",
   "metadata": {},
   "source": [
    "# Question 2: programming fundamentals\n",
    "\n",
    "## Q2a [3 marks]\n",
    "\n",
    "The following code computes the mean of an array of data"
   ]
  },
  {
   "cell_type": "code",
   "execution_count": 31,
   "metadata": {},
   "outputs": [
    {
     "data": {
      "text/plain": [
       "6.375"
      ]
     },
     "execution_count": 31,
     "metadata": {},
     "output_type": "execute_result"
    }
   ],
   "source": [
    "data = np.array([1,5,25,2,3,4,5,6]);\n",
    "\n",
    "np.mean(data)"
   ]
  },
  {
   "cell_type": "markdown",
   "metadata": {},
   "source": [
    "Write some code to calculate the mean without using `np.mean()` or any similar NumPy functions. You should use a `for` or `while` loop."
   ]
  },
  {
   "cell_type": "code",
   "execution_count": null,
   "metadata": {},
   "outputs": [],
   "source": [
    "count = 0\n",
    "i=0\n",
    "\n",
    "while i < len(data):\n",
    "    count=count+data[i]\n",
    "    i=i+1\n",
    "\n",
    "mean = count / 8\n",
    "print(mean)\n",
    "        "
   ]
  },
  {
   "cell_type": "markdown",
   "metadata": {},
   "source": [
    "## Q2b [3 marks]\n",
    "\n",
    "Using a `while` loop, print out the square root of the numbers from 0 to 10. Use the format, e.g., \"Sqrt(2) = 1.414\" and display only three digits past the decimal."
   ]
  },
  {
   "cell_type": "code",
   "execution_count": null,
   "metadata": {
    "scrolled": true
   },
   "outputs": [],
   "source": []
  },
  {
   "cell_type": "markdown",
   "metadata": {},
   "source": [
    "## Q2c [4 marks]\n",
    "\n",
    "Write a code that computes:\n",
    "\n",
    "$$\\sum_{k=0}^{20} \\frac{2(-1)^k 3^{1/2-k}}{2k+1} $$\n",
    "\n",
    "You should find a result very close to $\\pi$."
   ]
  },
  {
   "cell_type": "code",
   "execution_count": 41,
   "metadata": {},
   "outputs": [
    {
     "name": "stdout",
     "output_type": "stream",
     "text": [
      "[ 3.46410162         nan         nan         nan         nan         nan\n",
      "         nan         nan         nan         nan         nan         nan\n",
      "         nan         nan         nan         nan         nan         nan\n",
      "         nan         nan         nan         nan         nan         nan\n",
      "         nan         nan         nan         nan         nan         nan\n",
      "         nan         nan         nan         nan         nan         nan\n",
      "         nan         nan         nan         nan         nan         nan\n",
      "         nan         nan         nan         nan         nan         nan\n",
      "         nan -0.40331459]\n"
     ]
    },
    {
     "name": "stderr",
     "output_type": "stream",
     "text": [
      "C:\\Users\\macla\\Anaconda3\\lib\\site-packages\\ipykernel_launcher.py:4: RuntimeWarning: invalid value encountered in power\n",
      "  after removing the cwd from sys.path.\n"
     ]
    }
   ],
   "source": [
    "def h(k):\n",
    "    i = 0\n",
    "    while i < 21:\n",
    "        return (2*((-1)**k)*3**(1/2)-k)/(2*k + 1)\n",
    "    else:\n",
    "        return 0\n",
    "    i =+1\n",
    "    return sum(h(k))\n",
    "    \n",
    "k = np.linspace(0,20)    \n",
    "    \n",
    "hSum = h(k)\n",
    "\n",
    "print(hSum)"
   ]
  },
  {
   "cell_type": "markdown",
   "metadata": {},
   "source": [
    "## Q2d [5 marks]\n",
    "\n",
    "The Riemann-Euler Zeta function is given by \n",
    "\n",
    "$$ \\zeta(s) = \\sum_{n=1}^\\infty \\frac{1}{n^s} = \\prod_{p\\in\\text{primes}}\\frac{1}{1-p^{-s}}$$\n",
    "\n",
    "We have the result $$\\zeta(2) = \\frac{\\pi^2}{6}$$\n",
    "\n",
    "Compute the sum in the formula above using $n=1\\dots 10,000$ and compute the product above using the below list of the first 100 primes. Print the result of the sum, the product and $\\pi^2/6$. You should find they agree to 4 significant digits. Recall: `np.pi` gives the value of $\\pi$."
   ]
  },
  {
   "cell_type": "code",
   "execution_count": 210,
   "metadata": {},
   "outputs": [],
   "source": [
    "primes = np.array([2,3,5,7,11,13,17,19,23,29,31,37,41,43,47,53,59,61,67,71,73,79,83,89,97,101,103,107,109,113,127,131,137,139,149,151,157,163,167,173,179,181,191,193,197,199,211,223,227,229,233,239,241,251,257,263,269,271,277,281,283,293,307,311,313,317,331,337,347,349,353,359,367,373,379,383,389,397,401,409,419,421,431,433,439,443,449,457,461,463,467,479,487,491,499,503,509,521,523,541], dtype='float')"
   ]
  },
  {
   "cell_type": "code",
   "execution_count": null,
   "metadata": {},
   "outputs": [],
   "source": []
  },
  {
   "cell_type": "markdown",
   "metadata": {},
   "source": [
    "# Question 3: root finding\n",
    "\n",
    "## Q3a [4 marks]\n",
    "\n",
    "Using the below `NewtonRaphson()` function, numerically find a root of $f(x) = (x-1)(x+2)$ to within an error $<10^{-6}$. Start with $x_0 = 2.5$."
   ]
  },
  {
   "cell_type": "code",
   "execution_count": null,
   "metadata": {},
   "outputs": [],
   "source": [
    "def NewtonRaphson(f, df, x0, err):\n",
    "    xn = x0\n",
    "    fn = f(x0)\n",
    "    while np.abs(fn) > err :\n",
    "        fn = f(xn)\n",
    "        dfn = df(xn)\n",
    "        xn1 = xn - fn/dfn\n",
    "        xn = xn1\n",
    "    return xn1 "
   ]
  },
  {
   "cell_type": "code",
   "execution_count": null,
   "metadata": {},
   "outputs": [],
   "source": [
    "def p(x):\n",
    "    return (x - 1)*(x +2)\n",
    "\n",
    "def dp(x):\n",
    "    return 2*x - 2\n",
    "\n",
    "NR1 = NewtonRaphson(p, dp , 2.5, 1e-6)\n",
    "print(NR1)"
   ]
  },
  {
   "cell_type": "markdown",
   "metadata": {},
   "source": [
    "## Q3b [7 marks]\n",
    "\n",
    "In the lectures we looked at the Newton-Raphson and Secant methods for root finding. Another similar iterative method is Steffensen's method. The iterative formula for this is given by:\n",
    "\n",
    "$$ x_{n+1} = x_n - \\frac{f(x_n)}{g(x_n)} $$\n",
    "\n",
    "where\n",
    "\n",
    "$$g(x_n) = \\frac{f(x_n + f(x_n))}{f(x_n)} - 1$$\n",
    "\n",
    "Implement this method within the function below"
   ]
  },
  {
   "cell_type": "code",
   "execution_count": 173,
   "metadata": {},
   "outputs": [],
   "source": [
    "def SteffensensMethod(f, x0, err):\n",
    "    "
   ]
  },
  {
   "cell_type": "markdown",
   "metadata": {},
   "source": [
    "Use your new function to numerically find the roots of $f(x) = (x-2)(x+3)$, starting with an initial value of $x_0 = 2.5$."
   ]
  },
  {
   "cell_type": "code",
   "execution_count": 174,
   "metadata": {},
   "outputs": [],
   "source": []
  },
  {
   "cell_type": "markdown",
   "metadata": {},
   "source": [
    "# Question 4: ordinary differential equations\n",
    "\n",
    "All the below questions should be answered by using `RK2()` method below:"
   ]
  },
  {
   "cell_type": "code",
   "execution_count": 42,
   "metadata": {},
   "outputs": [],
   "source": [
    "def RK2(f, dx, x0, y0, imax):\n",
    "    xi = x0\n",
    "    yi = y0\n",
    "    i = 0\n",
    "    while i < imax:\n",
    "        k1 = dx*f(xi, yi)\n",
    "        k2 = dx*f(xi + dx, yi + k1)\n",
    "    \n",
    "        yi = yi + 0.5*(k1 + k2)\n",
    "                \n",
    "        xi += dx\n",
    "        i  += 1\n",
    "        \n",
    "    return [xi, yi]"
   ]
  },
  {
   "cell_type": "markdown",
   "metadata": {},
   "source": [
    "solve the following problems:\n",
    "\n",
    "## Q4a [5 marks]\n",
    "\n",
    "Numerically solve the first-order differential equation:\n",
    "\n",
    "$$ \\frac{dy}{dx} = \\frac{\\sqrt{1+2y}}{\\sqrt{1+2x}}$$\n",
    "\n",
    "with $y(0) = 2$ and find the value of $y(10)$. Use a stepsize of $\\Delta x = 0.01$"
   ]
  },
  {
   "cell_type": "code",
   "execution_count": 44,
   "metadata": {},
   "outputs": [
    {
     "data": {
      "text/plain": [
       "[0.09999999999999999, 2.2179803134968052]"
      ]
     },
     "execution_count": 44,
     "metadata": {},
     "output_type": "execute_result"
    }
   ],
   "source": [
    "def dy(x,y) :\n",
    "    return (np.sqrt(1+2*y))/(np.sqrt(1+2*x))\n",
    "RK2(dy, 0.01, 0, 2, 10)"
   ]
  },
  {
   "cell_type": "markdown",
   "metadata": {},
   "source": [
    "## Q4b [6 marks]\n",
    "\n",
    "By writing the following integral as a first-order differential equation, numeically evaluate:\n",
    "\n",
    "$$ \\int_0^b x\\sin(x^2)\\, dx$$\n",
    "\n",
    "where $b = \\sqrt{\\pi/2}$ using the RK2 function provided above. Use 1000 steps to make the calculation. Reminder: `np.pi` gives you the value of $\\pi$."
   ]
  },
  {
   "cell_type": "code",
   "execution_count": null,
   "metadata": {},
   "outputs": [],
   "source": []
  },
  {
   "cell_type": "markdown",
   "metadata": {},
   "source": [
    "# Q4c [7 marks]\n",
    "\n",
    "By writing it in first-order form, solve $$ \\frac{d^2y}{d x^2} = -\\frac{1}{10}y + \\frac{y}{x} $$\n",
    "\n",
    "with $y(5) = 0, y'(5) = 1$. Use 1000 steps to evaluate the solution at $x=15$."
   ]
  },
  {
   "cell_type": "code",
   "execution_count": 181,
   "metadata": {},
   "outputs": [],
   "source": []
  },
  {
   "cell_type": "markdown",
   "metadata": {},
   "source": [
    "# Submission\n",
    "\n",
    "You must upload your completed `Midterm1.ipynb` to BrightSpace. You can find the place to upload the file under the Assessments Tab -> Midterm1.\n",
    "\n",
    "If there are any issues with uploading the midterm to BrightSpace. Please email me your completed Midterm1.ipynb. My email address is niels.warburton@ucd.ie."
   ]
  },
  {
   "cell_type": "code",
   "execution_count": null,
   "metadata": {},
   "outputs": [],
   "source": []
  }
 ],
 "metadata": {
  "kernelspec": {
   "display_name": "Python 3",
   "language": "python",
   "name": "python3"
  },
  "language_info": {
   "codemirror_mode": {
    "name": "ipython",
    "version": 3
   },
   "file_extension": ".py",
   "mimetype": "text/x-python",
   "name": "python",
   "nbconvert_exporter": "python",
   "pygments_lexer": "ipython3",
   "version": "3.7.3"
  }
 },
 "nbformat": 4,
 "nbformat_minor": 2
}
