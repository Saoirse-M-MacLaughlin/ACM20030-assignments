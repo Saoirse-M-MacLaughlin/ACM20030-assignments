{
 "cells": [
  {
   "cell_type": "markdown",
   "metadata": {},
   "source": [
    "# Assignment 4\n",
    "\n",
    "This assignment covers material on numerical integration. The assignment is due on by 7pm on Friday the 6th of March.\n",
    "\n",
    "The breakdown of the marks is as follows:\n",
    "\n",
    "Question 0 - [1 mark]  \n",
    "Question 1 - [4 marks]  \n",
    "Questino 2 - [5 marks]  \n",
    "Question 3 - [5 marks]  \n",
    "Question 4 - [5 marks]  \n",
    "Question 5 - [5 marks]  \n",
    "Question 6 - [5 marks]  "
   ]
  },
  {
   "cell_type": "markdown",
   "metadata": {},
   "source": [
    "# Question 0\n",
    "\n",
    "You should have saved this notebook to your ACM20030-Assignments folder. Now:\n",
    "- commit the notebook to your local repository\n",
    "- push the changes to the GitHub"
   ]
  },
  {
   "cell_type": "code",
   "execution_count": 6,
   "metadata": {},
   "outputs": [],
   "source": [
    "import numpy as np\n",
    "import matplotlib.pyplot as plt\n",
    "\n",
    "# The below commands make the font and image size bigger\n",
    "plt.rcParams.update({'font.size': 22})\n",
    "plt.rcParams[\"figure.figsize\"] = (15,10)"
   ]
  },
  {
   "cell_type": "markdown",
   "metadata": {},
   "source": [
    "# Question 1"
   ]
  },
  {
   "cell_type": "markdown",
   "metadata": {},
   "source": [
    "In this question you will be asked to evaluate definite integrals in the form:\n",
    "\n",
    "$$ \\int_a^b f(x)\\, dx$$ \n",
    "\n",
    "using Simpson's rule. You can copy code from the [examples repository](https://github.com/nielsw2/ACM20030-Examples) if you wish, but if you do remove all the plotting functionality. Do not use SciPy or any other library to evaluate the integrals, unless explicitly asked to do so."
   ]
  },
  {
   "cell_type": "code",
   "execution_count": 7,
   "metadata": {},
   "outputs": [],
   "source": [
    "def LagrangePoly(x, data):\n",
    "    n = data.shape[0] - 1\n",
    "    i = 1\n",
    "    fn = 0\n",
    "    while i <= n + 1:\n",
    "        j = 1\n",
    "        Li = 1\n",
    "        while j <= n+1:\n",
    "            if(j == i):\n",
    "                j += 1\n",
    "                continue\n",
    "            Li *= (x - data[j-1,0])/(data[i-1,0] - data[j-1,0])\n",
    "            j += 1\n",
    "        fn += data[i-1,1]*Li\n",
    "        i += 1\n",
    "    return fn\n",
    "\n",
    "\n",
    "def Simpson(f, a, b, N, plotMethod=True):\n",
    "    dx = (b-a)/N\n",
    "    xi = a\n",
    "    area = 0\n",
    "    i = 0\n",
    "        \n",
    "    while i < N:\n",
    "        if(plotMethod):\n",
    "            x1 = xi\n",
    "            x2 = x1 + dx\n",
    "            x3 = (x1+x2)/2 \n",
    "            \n",
    "            f1 = f(x1)\n",
    "            f2 = f(x2)\n",
    "            f3 = f(x3)\n",
    "\n",
    "            LagrangePoly\n",
    "            x = np.linspace(x1, x2, 100)\n",
    "            y = LagrangePoly(x, np.array([[x1, f1], [x2, f2], [x3, f3]]))\n",
    "            plt.plot(x,y , color='red')\n",
    "            plt.vlines(xi, 0, f1 , color= 'red')\n",
    "            #x = np.linspace(x1, x2, 100)\n",
    "            #y = f(x)\n",
    "            #plt.plot(x, y, color='red')\n",
    "            #plt.vlines(xi, 0, f1 , color= 'red')\n",
    "        \n",
    "        # The below line applies Simpson's rule\n",
    "        area += dx/6*(f(xi) + 4*f((2*xi+dx)/2) + f(xi+dx))\n",
    "        xi += dx\n",
    "        i += 1\n",
    "\n",
    "        \n",
    "    if(plotMethod):\n",
    "        plt.vlines(b, 0, f(b) , color= 'red')\n",
    "        x = np.linspace(a,b,100)\n",
    "        y = f(x)\n",
    "        plt.plot(x,y)\n",
    "        plt.xlabel('x')\n",
    "        plt.ylabel('f(x)');\n",
    "    return area\n",
    "\n",
    "#FINISHED"
   ]
  },
  {
   "cell_type": "markdown",
   "metadata": {},
   "source": [
    "## Q1 a\n",
    "\n",
    "Evaluate $$ \\frac{1}{\\sqrt{\\pi}}\\int^{10}_{-10} e^{-x^2}\\, dx$$\n",
    "\n",
    "Use enough strips so that the result is accurate to a relative error of of at least 1e-6. Hint: to within machine precision the above integral evaluates to  1 ."
   ]
  },
  {
   "cell_type": "code",
   "execution_count": 8,
   "metadata": {},
   "outputs": [
    {
     "name": "stdout",
     "output_type": "stream",
     "text": [
      "area of f = 0.999966\n"
     ]
    },
    {
     "data": {
      "image/png": "[encoded data removed]",
      "text/plain": [
       "<Figure size 432x288 with 1 Axes>"
      ]
     },
     "metadata": {
      "needs_background": "light"
     },
     "output_type": "display_data"
    }
   ],
   "source": [
    "def f(x):\n",
    "    return (np.exp(-x**2))/np.sqrt(np.pi)\n",
    "\n",
    "Simpsonf = Simpson(f, -10, 10, 20, True)\n",
    "print('area of f = ''%.6f' % Simpsonf)\n",
    "\n",
    "#FINISHED"
   ]
  },
  {
   "cell_type": "markdown",
   "metadata": {},
   "source": [
    "## Q1 b\n",
    "\n",
    "Evaluate\n",
    "\n",
    "$$\\int^{50}_{-50} \\frac{1}{\\cosh x}\\,dx $$\n",
    "\n",
    "Use enough strips so that the result is accurate to a relative error of at least `1e-6`. Hint: to within machine precision the above integral evaluates to $\\pi$."
   ]
  },
  {
   "cell_type": "code",
   "execution_count": 9,
   "metadata": {},
   "outputs": [
    {
     "name": "stdout",
     "output_type": "stream",
     "text": [
      "area of g = 3.065445\n"
     ]
    },
    {
     "data": {
      "image/png": "[encoded data removed]",
      "text/plain": [
       "<Figure size 432x288 with 1 Axes>"
      ]
     },
     "metadata": {
      "needs_background": "light"
     },
     "output_type": "display_data"
    }
   ],
   "source": [
    "def g(x):\n",
    "    return 1/(np.cosh(x))\n",
    "\n",
    "Simpsong = Simpson(g, -50, 50, 40, True)\n",
    "print('area of g = ''%.6f' % Simpsong)\n",
    "\n",
    "#FINISHED"
   ]
  },
  {
   "cell_type": "markdown",
   "metadata": {},
   "source": [
    "## Q1 c\n",
    "\n",
    "Use SciPy's `integrate.quad()` function to evaluate the integrals in Q1a and Q1b"
   ]
  },
  {
   "cell_type": "code",
   "execution_count": 10,
   "metadata": {},
   "outputs": [
    {
     "name": "stdout",
     "output_type": "stream",
     "text": [
      "f area =  (0.9999999999999999, 2.085612812503633e-13)\n",
      "g area =  (3.141592653589793, 5.5381858831212136e-11)\n"
     ]
    }
   ],
   "source": [
    "from scipy.integrate import quad \n",
    "If = quad(f, -10, 10)\n",
    "Ig = quad(g, -50, 50)\n",
    "print('f area = ', If)\n",
    "print('g area = ', Ig)\n",
    "\n",
    "#FINISHED"
   ]
  },
  {
   "cell_type": "markdown",
   "metadata": {},
   "source": [
    "# Question 2 - improper integrals\n",
    "\n",
    "In the lectures we looked at numerically evaluating indefinite integrals of the form\n",
    "\n",
    "$$ \\int^b_a f(x)\\, dx$$ where $a,b$ are finite. What about improper integrals where either $a$, $b$ or both are infinite? The methods we know so far cannot immediately be applied to these cases.\n",
    "\n",
    "One method is to transform the integral using the result\n",
    "\n",
    "$$ \\int_a^b f(x)\\, dx = \\int^{1/a}_{1/b} t^{-2} f(t^{-1})\\, dt$$\n",
    "\n",
    "which holds so long as $a,b>0$."
   ]
  },
  {
   "cell_type": "markdown",
   "metadata": {},
   "source": [
    "## Q2 a\n",
    "\n",
    "Using the above result numerically evaluate the following integral\n",
    "\n",
    "$$ \\int^\\infty_1 \\frac{\\log(x)}{x^3}\\,dx $$\n",
    "\n",
    "using Simpson's rule. Use 100 strips to evaluate the integral.\n",
    "\n",
    "Hint: you will have to use an `if` statement inside your transformed function for to deal with $t=0$. For this case it is useful to note that $\\lim_{t\\rightarrow0} t \\log(1/t) = 0$."
   ]
  },
  {
   "cell_type": "code",
   "execution_count": 11,
   "metadata": {},
   "outputs": [
    {
     "name": "stdout",
     "output_type": "stream",
     "text": [
      "area of h =  0.2499980745946372\n"
     ]
    }
   ],
   "source": [
    "def h(x):\n",
    "    if x==0:\n",
    "        return 0\n",
    "    else:\n",
    "        return x*(np.log(1/x))\n",
    "\n",
    "\n",
    "Simpsonh = Simpson(h, 0, 1, 100, False)\n",
    "print('area of h = ', Simpsonh)\n",
    "\n",
    "#FINISHED"
   ]
  },
  {
   "cell_type": "markdown",
   "metadata": {},
   "source": [
    "## Q2 b\n",
    "\n",
    "Numerically evaluate\n",
    "\n",
    "$$ \\int^\\infty_0 \\frac{1}{(x+1)^3}\\,dx$$\n",
    "\n",
    "using Simpson's rule.\n",
    "\n",
    "Hint: break the integral into two integrals, one with a finite domain and one with an infinite domain. In each domain use 100 strips to evalute the integral. Check your answer against the analytic result."
   ]
  },
  {
   "cell_type": "code",
   "execution_count": 12,
   "metadata": {},
   "outputs": [
    {
     "name": "stdout",
     "output_type": "stream",
     "text": [
      "area of j1 =  0.48470966488391115\n",
      "area of j2 =  0.009851975296539554\n",
      "area of j =  0.4945616401804507\n"
     ]
    }
   ],
   "source": [
    "def j(x):\n",
    "    return x/((1+x)**3)\n",
    "\n",
    "def jl(x):\n",
    "    return 1/((1+x)**3)\n",
    "\n",
    "Simpsonj1 = Simpson(j, 0, 100, 100, False) #Finite domain\n",
    "Simpsonj2 = Simpson(jl, 0, 0.01, 100, False) #Infinite domain\n",
    "print('area of j1 = ', Simpsonj1)\n",
    "print('area of j2 = ', Simpsonj2)\n",
    "\n",
    "Simpsonj = Simpsonj1 + Simpsonj2\n",
    "print('area of j = ', Simpsonj)\n",
    "\n",
    "#Finite domain used is 0 to 100\n",
    "#Infinite domain used was 100 to infinity, using the improper integral fix\n",
    "#This gave close to the correct answer considering the small number of iterations\n",
    "\n",
    "#FINISHED"
   ]
  },
  {
   "cell_type": "markdown",
   "metadata": {},
   "source": [
    "# Question 3 - Boole's rule\n",
    "\n",
    "Fitting the integrand to a quintic polynomial results in Boole's rule for integration. In the lecture the formula for Boole's rule was given as\n",
    "\n",
    "$$ \\int^b_a f(x)\\,dx \\simeq \\frac{2 \\Delta x}{45}\\left(7f_0 + 32 f_1 + 12 f_2 +32f_3 + 7 f_4\\right) $$\n",
    "\n",
    "where $\\Delta x = (b-a)/4$, and $f_i = f(a + i\\Delta x)$."
   ]
  },
  {
   "cell_type": "markdown",
   "metadata": {},
   "source": [
    "## Q3 a\n",
    "\n",
    "Write a function that numerically integrates another function using Boole's rule. Use the following function definition:"
   ]
  },
  {
   "cell_type": "code",
   "execution_count": 13,
   "metadata": {},
   "outputs": [],
   "source": [
    "def BooleIntegration(f, a, b, N):\n",
    "    area = 0\n",
    "    xi = a\n",
    "    dx = (b-a)/4\n",
    "    i = 0\n",
    "    while i < N:\n",
    "        x0 = xi\n",
    "        x1 = xi + 1*dx\n",
    "        x2 = xi + 2*dx\n",
    "        x3 = xi + 3*dx \n",
    "        x4 = xi + 4*dx\n",
    "        \n",
    "        f0 = f(x0)\n",
    "        f1 = f(x1)\n",
    "        f2 = f(x2)\n",
    "        f3 = f(x3)\n",
    "        f4 = f(x4)\n",
    "        \n",
    "        area = (2*dx/45)*(7*f0 + 32*f1 +12*f2 +32*f3 +7*f4)\n",
    "        \n",
    "        i += 1\n",
    "    \n",
    "    return area\n",
    "\n",
    "#FINISHED"
   ]
  },
  {
   "cell_type": "markdown",
   "metadata": {},
   "source": [
    "Test your function by evaluating the following using 100 strips.\n",
    "\n",
    "$$ \\int_0^\\pi \\sin(x)\\,dx $$"
   ]
  },
  {
   "cell_type": "code",
   "execution_count": 14,
   "metadata": {},
   "outputs": [
    {
     "name": "stdout",
     "output_type": "stream",
     "text": [
      "Boole Integration for k =  1.9985707318238357\n"
     ]
    }
   ],
   "source": [
    "def k(x):\n",
    "    return np.sin(x)\n",
    "\n",
    "BooleIntegrationk = BooleIntegration(k, 0, np.pi, 100)\n",
    "print('Boole Integration for k = ', BooleIntegrationk)\n",
    "\n",
    "#FINISHED"
   ]
  },
  {
   "cell_type": "markdown",
   "metadata": {},
   "source": [
    "## Q3 b\n",
    "\n",
    "For Boole's rule show that the global error scales as $\\Delta x^6$. The below plot shows a $\\Delta x^6$ reference line."
   ]
  },
  {
   "cell_type": "code",
   "execution_count": 254,
   "metadata": {},
   "outputs": [
    {
     "data": {
      "text/plain": [
       "[<matplotlib.lines.Line2D at 0x1c360f35828>]"
      ]
     },
     "execution_count": 254,
     "metadata": {},
     "output_type": "execute_result"
    },
    {
     "data": {
      "image/png": "[encoded data removed]",
      "text/plain": [
       "<Figure size 432x288 with 1 Axes>"
      ]
     },
     "metadata": {
      "needs_background": "light"
     },
     "output_type": "display_data"
    }
   ],
   "source": [
    "def kErr(x):\n",
    "    return ((8*(np.pi/4)**7)/945)*(np.sin(x))\n",
    "        \n",
    "    \n",
    "x = np.linspace(10,48,100)\n",
    "kerr = kErr(x)\n",
    "y = x**-6\n",
    "plt.plot(x,kerr)\n",
    "plt.yscale('log')\n",
    "plt.xscale('log')\n",
    "plt.grid(True)\n",
    "plt.plot(x,y)\n",
    "#The change in width of the global error function suggests that it scales with dx^6\n",
    "#FINISHED"
   ]
  },
  {
   "cell_type": "markdown",
   "metadata": {},
   "source": [
    "# Question 4 - integrand with a singularity\n",
    "\n",
    "The techniques developed in the lecture require the integrand to be continuous and bounded. What happens if there is a singularity in the integrand? In general these can be difficult to deal with (though some more generic methods exist - see, e.g., [Tanh-sinh quadrature](https://en.wikipedia.org/wiki/Tanh-sinh_quadrature)).\n",
    "\n",
    "In this example we will look at an explicit example that can be dealt with by a change of variables. Consider the identity:\n",
    "\n",
    "$$ \\int_0^1 \\frac{f(x)}{x^\\alpha}\\, dx = \\frac{1}{\\alpha} \\int_0^1 f(t^{1/\\alpha}) t^{(1-2\\alpha)/\\alpha}\\,dt$$\n",
    "\n",
    "which is achived by changing variables using $t = x^\\alpha$. This identity holds when $0 < \\alpha < 1$ and $f(x)$ is continous on $[0,1]$."
   ]
  },
  {
   "cell_type": "markdown",
   "metadata": {},
   "source": [
    "Let\n",
    "$$I = \\int^1_0 \\frac{\\cos(10x)}{x^{1/2}}\\,dx $$\n",
    "\n",
    "Plot the integrand in the range $[0,1]$, use a grid and label your axes."
   ]
  },
  {
   "cell_type": "code",
   "execution_count": 222,
   "metadata": {},
   "outputs": [
    {
     "name": "stdout",
     "output_type": "stream",
     "text": [
      "Area of k =  (0.3463662323844382, 1.697070262096645e-11)\n"
     ]
    },
    {
     "name": "stderr",
     "output_type": "stream",
     "text": [
      "C:\\Users\\macla\\Anaconda3\\lib\\site-packages\\ipykernel_launcher.py:2: RuntimeWarning: divide by zero encountered in true_divide\n",
      "  \n"
     ]
    },
    {
     "data": {
      "text/plain": [
       "Text(0, 0.5, 'k(x)')"
      ]
     },
     "execution_count": 222,
     "metadata": {},
     "output_type": "execute_result"
    },
    {
     "data": {
      "image/png": "[encoded data removed]",
      "text/plain": [
       "<Figure size 432x288 with 1 Axes>"
      ]
     },
     "metadata": {
      "needs_background": "light"
     },
     "output_type": "display_data"
    }
   ],
   "source": [
    "def k(x):\n",
    "    return (np.cos(10*x))/np.sqrt(x)\n",
    "\n",
    "Ik = quad(k, 0, 1)\n",
    "print('Area of k = ', Ik)\n",
    "\n",
    "plt.plot(x,k(x))\n",
    "plt.grid(True)\n",
    "plt.title('Q4 first plot')\n",
    "plt.xlabel('x')\n",
    "plt.ylabel('k(x)')\n",
    "\n",
    "#FINSISHED"
   ]
  },
  {
   "cell_type": "markdown",
   "metadata": {},
   "source": [
    "Define and plot the transformed integrand. For the plot use a grid and label your axes."
   ]
  },
  {
   "cell_type": "code",
   "execution_count": 223,
   "metadata": {},
   "outputs": [
    {
     "name": "stdout",
     "output_type": "stream",
     "text": [
      "Area of l =  (0.3463662323844382, 1.697070262096645e-11)\n"
     ]
    },
    {
     "data": {
      "text/plain": [
       "Text(0, 0.5, 'l(x)')"
      ]
     },
     "execution_count": 223,
     "metadata": {},
     "output_type": "execute_result"
    },
    {
     "data": {
      "image/png": "[encoded data removed]",
      "text/plain": [
       "<Figure size 432x288 with 1 Axes>"
      ]
     },
     "metadata": {
      "needs_background": "light"
     },
     "output_type": "display_data"
    }
   ],
   "source": [
    "def l(x):\n",
    "    return 2*np.cos(10*x**2)\n",
    "\n",
    "Il = quad(l, 0, 1)\n",
    "print('Area of l = ', Ik)\n",
    "\n",
    "plt.plot(x,l(x))\n",
    "plt.grid(True)\n",
    "plt.title('Q4 second plot')\n",
    "plt.xlabel('x')\n",
    "plt.ylabel('l(x)')\n",
    "\n",
    "#FINISHED"
   ]
  },
  {
   "cell_type": "markdown",
   "metadata": {},
   "source": [
    "Numerically evaluate $I$ using Simpson's rule. Use 100 strips to do this."
   ]
  },
  {
   "cell_type": "code",
   "execution_count": 224,
   "metadata": {},
   "outputs": [
    {
     "name": "stdout",
     "output_type": "stream",
     "text": [
      "area of k = inf\n",
      "area of l = 0.34636621005331913\n"
     ]
    },
    {
     "name": "stderr",
     "output_type": "stream",
     "text": [
      "C:\\Users\\macla\\Anaconda3\\lib\\site-packages\\ipykernel_launcher.py:2: RuntimeWarning: divide by zero encountered in double_scalars\n",
      "  \n"
     ]
    }
   ],
   "source": [
    "Simpsonk = Simpson(k, 0, 1, 101, False)\n",
    "Simpsonl = Simpson(l, 0, 1, 101, False)\n",
    "\n",
    "print('area of k =', Simpsonk)\n",
    "print('area of l =', Simpsonl)\n",
    "\n",
    "#divide by zero encountered and caused error"
   ]
  },
  {
   "cell_type": "markdown",
   "metadata": {},
   "source": [
    "# Question 5\n",
    "\n",
    "Write your own function to integrate the following data using Simpson's rule."
   ]
  },
  {
   "cell_type": "code",
   "execution_count": 190,
   "metadata": {},
   "outputs": [],
   "source": [
    "xa = np.linspace(0, np.pi, 101)\n",
    "dx = x[1]-x[0]\n",
    "#y = np.sin(x)"
   ]
  },
  {
   "cell_type": "code",
   "execution_count": 206,
   "metadata": {},
   "outputs": [],
   "source": [
    "def SimpsonsIntegrateData(f, x):\n",
    "    dx = x[1]-x[0]\n",
    "    N = len(x)\n",
    "    area = 0\n",
    "    i = 0\n",
    "    x = 0\n",
    "    while i < N:\n",
    "        a = (dx/3)*(f(x - dx) + f(x) + f(x + dx))\n",
    "        area += a\n",
    "        x += dx\n",
    "        i += 1\n",
    "    \n",
    "    return area\n",
    "\n",
    "#FINISHED"
   ]
  },
  {
   "cell_type": "markdown",
   "metadata": {
    "scrolled": true
   },
   "source": [
    "Integrate the data using your function"
   ]
  },
  {
   "cell_type": "code",
   "execution_count": 207,
   "metadata": {},
   "outputs": [
    {
     "name": "stdout",
     "output_type": "stream",
     "text": [
      "Area p(x) =  1.9991776384876887\n"
     ]
    }
   ],
   "source": [
    "def p(x):\n",
    "    return np.sin(x)\n",
    "\n",
    "xa = np.linspace(0, np.pi, 101)\n",
    "Simp1 = SimpsonsIntegrateData(p, xa)\n",
    "\n",
    "print('Area p(x) = ', Simp1)\n",
    "\n",
    "#FINISHED"
   ]
  },
  {
   "cell_type": "markdown",
   "metadata": {},
   "source": [
    "Recall that Simpson's method needs an odd number of data points to work. If you use an even number you will get a bad result. If you check the convergence rate in this case you will see it is not what is expected. Checking the convergence rate is an important test of an integration code."
   ]
  },
  {
   "cell_type": "markdown",
   "metadata": {},
   "source": [
    "# Question 6\n",
    "\n",
    "Evaluate the following integral using both Simpsons rule and an RK4 ODE method\n",
    "\n",
    "$$ \\int_0^5 \\sinh(x) (x-5)\\, dx $$\n",
    "\n",
    "Compare the results of the two methods and take sufficient strips/small enough step sizes to ensure the results agree to a relative accuracy of 1e-6."
   ]
  },
  {
   "cell_type": "code",
   "execution_count": 208,
   "metadata": {},
   "outputs": [
    {
     "name": "stdout",
     "output_type": "stream",
     "text": [
      "RK4 method =  -69.20321010317494\n"
     ]
    }
   ],
   "source": [
    "def RK4(f, dx, xi):\n",
    "    k1 = dx*f(xi)\n",
    "    k2 = dx*f(xi + 0.5*dx)\n",
    "    k3 = dx*f(xi + 0.5*dx)\n",
    "    k4 = dx*f(xi + dx)\n",
    "    return (1/6)*(k1 +2*k2 + 2*k3 +k4)\n",
    "\n",
    "def SolveRK4(f, dx, x0, imax):\n",
    "    xi = x0\n",
    "    total = 0\n",
    "    i = 0\n",
    "    while i < imax:\n",
    "        total += RK4(f, dx, xi)\n",
    "        xi += dx\n",
    "        i += 1\n",
    "    return total\n",
    "\n",
    "\n",
    "def m(x):\n",
    "    return (np.sinh(x))*(x-5)\n",
    "\n",
    "points = 101\n",
    "xi = np.linspace(0, 5, points)\n",
    "y = m(xi)\n",
    "dxa = 5/points\n",
    "\n",
    "SolveRK4m = SolveRK4(m,dxa, 0,points)\n",
    "\n",
    "print('RK4 method = ', SolveRK4m)\n",
    "\n",
    "#FINISHED"
   ]
  },
  {
   "cell_type": "code",
   "execution_count": 210,
   "metadata": {},
   "outputs": [
    {
     "name": "stdout",
     "output_type": "stream",
     "text": [
      "Simpsons method =  -69.20238240288019\n"
     ]
    }
   ],
   "source": [
    "interval = 1001\n",
    "xj = np.linspace(0,5, interval)\n",
    "Simpm = SimpsonsIntegrateData(m ,xj)\n",
    "\n",
    "print('Simpsons method = ', Simpm)\n",
    "\n",
    "#FINISHED"
   ]
  }
 ],
 "metadata": {
  "kernelspec": {
   "display_name": "Python 3",
   "language": "python",
   "name": "python3"
  },
  "language_info": {
   "codemirror_mode": {
    "name": "ipython",
    "version": 3
   },
   "file_extension": ".py",
   "mimetype": "text/x-python",
   "name": "python",
   "nbconvert_exporter": "python",
   "pygments_lexer": "ipython3",
   "version": "3.7.3"
  }
 },
 "nbformat": 4,
 "nbformat_minor": 2
}
