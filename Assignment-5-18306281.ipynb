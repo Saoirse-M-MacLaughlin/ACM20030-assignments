{
 "cells": [
  {
   "cell_type": "markdown",
   "metadata": {},
   "source": [
    "#  Assignment 5\n",
    "\n",
    "This assignment covers material on matrices, norms, condition numbers and eigensystems. The assignment is due by 5pm on Friday the 17th of April.\n",
    "\n",
    "The breakdown of the marks is as follows:\n",
    "\n",
    "Question 0 - [1 mark]  \n",
    "Question 1 - [7 marks]  \n",
    "Questino 2 - [6 marks]  \n",
    "Question 3 - [7 marks]  \n",
    "Question 4 - [9 marks]  "
   ]
  },
  {
   "cell_type": "markdown",
   "metadata": {},
   "source": [
    "# Question 0\n",
    "\n",
    "You should have saved this notebook to your ACM20030-Assignments folder. Now:\n",
    "- commit the notebook to your local repository\n",
    "- push the changes to the GitHub"
   ]
  },
  {
   "cell_type": "code",
   "execution_count": 1,
   "metadata": {},
   "outputs": [],
   "source": [
    "import numpy as np\n",
    "from numpy import linalg as la\n",
    "np.set_printoptions(linewidth=200)  # This stops line wrapping of larger matrices"
   ]
  },
  {
   "cell_type": "markdown",
   "metadata": {},
   "source": [
    "# Question 1 - practice manipulating arrays\n",
    "\n",
    "This questions asks you write a few functions for manipulating arrays of data"
   ]
  },
  {
   "cell_type": "markdown",
   "metadata": {},
   "source": [
    "## Q1 a\n",
    "\n",
    "Write a function that checks if a given $n\\times n$ matrix is symmetric. Use only loops and `.shape` function from numpy (do not use any other special numpy functions)."
   ]
  },
  {
   "cell_type": "code",
   "execution_count": 2,
   "metadata": {},
   "outputs": [
    {
     "name": "stdout",
     "output_type": "stream",
     "text": [
      "[[0.97510078 0.38914378 0.28906171 0.61120705 0.89528905 0.21175609]\n",
      " [0.79750794 0.49888474 0.87134981 0.02441776 0.18424258 0.93877098]\n",
      " [0.96889468 0.22072157 0.58652113 0.52497854 0.86421723 0.59254514]\n",
      " [0.58469699 0.54624698 0.15267928 0.59401062 0.25262707 0.34935995]]\n",
      "cols = 4  rows= 6\n",
      "A False\n",
      "[[1 2]\n",
      " [3 4]]\n",
      "cols = 2  rows= 2\n",
      "B False\n",
      "cols = 2  rows= 2\n",
      "C True\n"
     ]
    }
   ],
   "source": [
    "def CheckMatSym(mat):\n",
    "    s = mat.shape\n",
    "    cols = s[0]\n",
    "    rows = s[1]\n",
    "    print('cols =',cols,' rows=',rows)\n",
    "    if rows != cols:\n",
    "        return False\n",
    "    row = 0\n",
    "    while row < rows:\n",
    "        col = 0\n",
    "        while col < cols:\n",
    "            if mat[row,col] != mat[col,row]:\n",
    "                return False\n",
    "            col += 1\n",
    "        row += 1\n",
    "    return True\n",
    "    \n",
    "\n",
    "A = np.random.rand(4,6)    \n",
    "print(A)\n",
    "print('A',CheckMatSym(A))\n",
    "B = np.matrix([[1, 2], [3, 4]])\n",
    "print(B)\n",
    "print('B',CheckMatSym(B))\n",
    "C = np.matrix([[1, 2], [2, 1]])\n",
    "print('C',CheckMatSym(C))\n"
   ]
  },
  {
   "cell_type": "markdown",
   "metadata": {},
   "source": [
    "Test your function on the two matrices below"
   ]
  },
  {
   "cell_type": "code",
   "execution_count": 3,
   "metadata": {},
   "outputs": [],
   "source": [
    "A = np.random.rand(5,5)\n",
    "SymMatrix = (A + A.T)/2"
   ]
  },
  {
   "cell_type": "code",
   "execution_count": 4,
   "metadata": {},
   "outputs": [
    {
     "name": "stdout",
     "output_type": "stream",
     "text": [
      "cols = 5  rows= 5\n"
     ]
    },
    {
     "data": {
      "text/plain": [
       "False"
      ]
     },
     "execution_count": 4,
     "metadata": {},
     "output_type": "execute_result"
    }
   ],
   "source": [
    "CheckMatSym(A)"
   ]
  },
  {
   "cell_type": "code",
   "execution_count": 7,
   "metadata": {},
   "outputs": [
    {
     "name": "stdout",
     "output_type": "stream",
     "text": [
      "cols = 5  rows= 5\n"
     ]
    },
    {
     "data": {
      "text/plain": [
       "True"
      ]
     },
     "execution_count": 7,
     "metadata": {},
     "output_type": "execute_result"
    }
   ],
   "source": [
    "CheckMatSym(SymMatrix)"
   ]
  },
  {
   "cell_type": "markdown",
   "metadata": {},
   "source": [
    "## Q1 b\n",
    "\n",
    "Write a function to transpose a general $n\\times n$ matrix. Do this by writing loops and not using any special functions like `np.transpose()`, `A.T`, or any functions from any other library."
   ]
  },
  {
   "cell_type": "code",
   "execution_count": 9,
   "metadata": {},
   "outputs": [],
   "source": [
    "def Transpose(mat):\n",
    "    s = mat.shape\n",
    "    cols = s[0]\n",
    "    rows = s[1]\n",
    "    print('cols =',cols,' rows=',rows)\n",
    "    t = np.zeros((rows,cols))\n",
    "#    t.shape = (rows,cols)\n",
    "    row = 0\n",
    "    while row < rows:\n",
    "        col = 0\n",
    "        while col < cols:\n",
    "            t[row,col] = mat[col,row]\n",
    "            col += 1\n",
    "        row += 1\n",
    "    return t\n",
    "    "
   ]
  },
  {
   "cell_type": "markdown",
   "metadata": {},
   "source": [
    "Check your code by transposing the below random matrix and checking that $A^T \\neq A$ and $(A^T)^T - A = 0$"
   ]
  },
  {
   "cell_type": "code",
   "execution_count": 10,
   "metadata": {
    "scrolled": false
   },
   "outputs": [
    {
     "name": "stdout",
     "output_type": "stream",
     "text": [
      "A= [[0.02212919 0.05424751 0.30599125 0.92850429 0.01936638 0.03632392]\n",
      " [0.52597009 0.89102456 0.84383243 0.17106303 0.85893771 0.84583767]\n",
      " [0.63283701 0.78549147 0.6910634  0.80777537 0.20727573 0.31995497]\n",
      " [0.11049195 0.77889702 0.62512484 0.93117962 0.29027954 0.98437235]\n",
      " [0.32059164 0.65872836 0.65855017 0.95066902 0.71831774 0.92502683]\n",
      " [0.14231186 0.12228262 0.82682393 0.66440647 0.41670616 0.68301955]]\n",
      "cols = 6  rows= 6\n",
      "Transpose of A= [[0.02212919 0.52597009 0.63283701 0.11049195 0.32059164 0.14231186]\n",
      " [0.05424751 0.89102456 0.78549147 0.77889702 0.65872836 0.12228262]\n",
      " [0.30599125 0.84383243 0.6910634  0.62512484 0.65855017 0.82682393]\n",
      " [0.92850429 0.17106303 0.80777537 0.93117962 0.95066902 0.66440647]\n",
      " [0.01936638 0.85893771 0.20727573 0.29027954 0.71831774 0.41670616]\n",
      " [0.03632392 0.84583767 0.31995497 0.98437235 0.92502683 0.68301955]]\n",
      "cols = 6  rows= 6\n",
      "A - A transpose= [[ 0.          0.47172258  0.32684576 -0.81801235  0.30122526  0.10598794]\n",
      " [-0.47172258  0.         -0.05834096  0.60783399 -0.20020936 -0.72355505]\n",
      " [-0.32684576  0.05834096  0.         -0.18265052  0.45127443  0.50686895]\n",
      " [ 0.81801235 -0.60783399  0.18265052  0.          0.66038948 -0.31996589]\n",
      " [-0.30122526  0.20020936 -0.45127443 -0.66038948  0.         -0.50832067]\n",
      " [-0.10598794  0.72355505 -0.50686895  0.31996589  0.50832067  0.        ]]\n",
      "cols = 6  rows= 6\n",
      "cols = 6  rows= 6\n",
      "[[0. 0. 0. 0. 0. 0.]\n",
      " [0. 0. 0. 0. 0. 0.]\n",
      " [0. 0. 0. 0. 0. 0.]\n",
      " [0. 0. 0. 0. 0. 0.]\n",
      " [0. 0. 0. 0. 0. 0.]\n",
      " [0. 0. 0. 0. 0. 0.]]\n"
     ]
    }
   ],
   "source": [
    "A = np.random.rand(6,6)\n",
    "print('A=',A)\n",
    "print('Transpose of A=',Transpose(A))\n",
    "\n",
    "#Check A - A Transpose != 0\n",
    "print('A - A transpose=',Transpose(A) - A)\n",
    "\n",
    "#Check (𝐴𝑇)𝑇−𝐴=0\n",
    "ATranA = Transpose(Transpose(A))\n",
    "print(ATranA - A)"
   ]
  },
  {
   "cell_type": "markdown",
   "metadata": {},
   "source": [
    "## Q1c\n",
    "\n",
    "Write a function that finds the maximum entry in a matrix (where the matrix does not need to be square). Do this by writing loops and not using any special functions like `np.max` or any functions from any other library."
   ]
  },
  {
   "cell_type": "code",
   "execution_count": 11,
   "metadata": {},
   "outputs": [],
   "source": [
    "def MaxEntry(mat):\n",
    "    s = mat.shape\n",
    "    cols = s[0]\n",
    "    rows = s[1]\n",
    "    max = 0\n",
    "    for row in range(0, rows):\n",
    "        for col in range(0, cols):\n",
    "            if ((col == 0) and (row == 0)) or (mat[col,row] > max):\n",
    "                max = mat[col,row]\n",
    "    return max\n"
   ]
  },
  {
   "cell_type": "markdown",
   "metadata": {},
   "source": [
    "Check your result by comparing to `np.max(A)` for the below random matrix"
   ]
  },
  {
   "cell_type": "code",
   "execution_count": 12,
   "metadata": {},
   "outputs": [
    {
     "name": "stdout",
     "output_type": "stream",
     "text": [
      "[[0.22108674 0.59494943 0.31148849 0.16994533 0.34065896]\n",
      " [0.77269397 0.20878821 0.03623942 0.88428907 0.69218887]\n",
      " [0.67403724 0.82664147 0.73443919 0.77325749 0.70932828]\n",
      " [0.7760173  0.85431776 0.75671395 0.44362564 0.4132251 ]]\n",
      "Max= 0.8842890732012063\n",
      "np.max= 0.8842890732012063\n"
     ]
    }
   ],
   "source": [
    "A = np.random.rand(4,5)\n",
    "print(A)\n",
    "print('Max=',MaxEntry(A))\n",
    "print('np.max=',np.max(A))"
   ]
  },
  {
   "cell_type": "markdown",
   "metadata": {},
   "source": [
    "# Question 2:  matrix norms\n",
    "\n",
    "In the lectures we focused on the $L^2$-norm. We also briefly mentioned the $L^1$ and $L^\\infty$ norm. Let's look at calculating those as well for a general $m\\times n$ matrix."
   ]
  },
  {
   "cell_type": "markdown",
   "metadata": {},
   "source": [
    "# Q2a\n",
    "\n",
    "The $L^1$ norm is given by\n",
    "\n",
    "$$ \\lVert A \\rVert_1 = \\max_j \\sum^m_{i=1} |a_{ij}| $$\n",
    "\n",
    "i.e., it is the max of the sums of the absolute values of each column. Write a function that computes the $L^1$-norm using only loops. The function should use no special numpy functions except `np.abs()`."
   ]
  },
  {
   "cell_type": "code",
   "execution_count": 13,
   "metadata": {},
   "outputs": [],
   "source": [
    "def L1Norm(mat):\n",
    "    s = mat.shape\n",
    "    cols = s[0]\n",
    "    rows = s[1]\n",
    "    colmax = 0\n",
    "    for row in range(0, rows):\n",
    "        colsum = 0;\n",
    "        for col in range(0, cols):\n",
    "            ele = mat[col,row]\n",
    "            if ele < 0:\n",
    "                ele = -ele\n",
    "            colsum += ele\n",
    "        if (row == 0) or (colsum > colmax):\n",
    "             colmax = colsum\n",
    "    return colmax\n",
    "    "
   ]
  },
  {
   "cell_type": "markdown",
   "metadata": {},
   "source": [
    "Check your result against NumPy's `la.norm(A,1)` function for the following random matrix"
   ]
  },
  {
   "cell_type": "code",
   "execution_count": 14,
   "metadata": {},
   "outputs": [
    {
     "name": "stdout",
     "output_type": "stream",
     "text": [
      "[[0.21090372 0.70817982 0.7054183  0.76282074]\n",
      " [0.02804681 0.30036905 0.55013124 0.24197291]\n",
      " [0.29245415 0.71088732 0.25538234 0.87706163]]\n",
      "L1Norm= 1.8818552774139523\n",
      "la.norm= 1.8818552774139523\n"
     ]
    }
   ],
   "source": [
    "A = np.random.rand(3,4)\n",
    "print(A)\n",
    "print('L1Norm=',L1Norm(A))\n",
    "print('la.norm=',la.norm(A,1))"
   ]
  },
  {
   "cell_type": "markdown",
   "metadata": {},
   "source": [
    "## Q2b\n",
    "\n",
    "The $L^\\infty$ norm is given by \n",
    "\n",
    "$$\\lVert A \\rVert_\\infty = \\max_i \\sum_{j=1}^n |a_{ij}|$$\n",
    "\n",
    "i.e., it is the max of the sums of the absolute values of each row. Write a function that computes the $L^\\infty$-norm using only loops and no special numpy functions."
   ]
  },
  {
   "cell_type": "code",
   "execution_count": 15,
   "metadata": {},
   "outputs": [],
   "source": [
    "def LInf(mat):\n",
    "    s = mat.shape\n",
    "    cols = s[0]\n",
    "    rows = s[1]\n",
    "    rowmax = 0\n",
    "    for col in range(0, cols):\n",
    "        rowsum = 0;\n",
    "        for row in range(0, rows):\n",
    "            ele = mat[col,row]\n",
    "            if ele < 0:\n",
    "                ele = -ele\n",
    "            rowsum += ele\n",
    "        if (col == 0) or (rowsum > rowmax):\n",
    "             rowmax = rowsum\n",
    "    return rowmax\n",
    "    "
   ]
  },
  {
   "cell_type": "markdown",
   "metadata": {},
   "source": [
    "Check your result against NumPy's `la.norm(A,np.inf)` function for the following random matrix"
   ]
  },
  {
   "cell_type": "code",
   "execution_count": 16,
   "metadata": {},
   "outputs": [
    {
     "name": "stdout",
     "output_type": "stream",
     "text": [
      "[[0.20482658 0.63422424 0.06578422 0.43374196]\n",
      " [0.58681211 0.89096277 0.00824977 0.04418431]\n",
      " [0.71958554 0.86717515 0.91729873 0.95685279]]\n",
      "LInf= 3.4609122038067177\n",
      "la.norm(A,np.inf)= 3.4609122038067177\n"
     ]
    }
   ],
   "source": [
    "A = np.random.rand(3,4)\n",
    "print(A)\n",
    "print('LInf=',LInf(A))\n",
    "print('la.norm(A,np.inf)=',la.norm(A,np.inf))"
   ]
  },
  {
   "cell_type": "markdown",
   "metadata": {},
   "source": [
    "# Question 3: ill-conditions systems of equations\n",
    "\n",
    "In this question you can use any of NumPy's functions.\n",
    "\n",
    "## Q3a\n",
    "\n",
    "Which of the following three matrices, $A1, A2, A3$, are ill-conditioned. State the reason for your conclusion."
   ]
  },
  {
   "cell_type": "code",
   "execution_count": 46,
   "metadata": {},
   "outputs": [],
   "source": [
    "A1 = np.array([[0.988746460106, 0.351486109477, 0.024911477532, 0.384039749683],\n",
    "       [0.282104657306, 0.239884151775, 0.36170151991 , 0.903082266861],\n",
    "       [0.59333290915 , 0.637178863968, 0.241229214635, 0.685595037901],\n",
    "       [0.013591747828, 0.917926970364, 0.458689093885, 0.157821121254]])\n",
    "\n",
    "A2 = np.array([[ 2.852416473483e-01,  3.803483118694e-01,  2.697704226632e-01,  6.810611849029e-01],\n",
    "       [ 6.622827828376e-01,  6.447943415836e-01,  4.387842058829e-01,  1.530575702376e+00],\n",
    "       [ 3.672130860703e-01,  8.309522079704e-01,  9.975487474007e-01,  5.678296337101e-01],\n",
    "       [ 4.036490000599e-01,  6.865978225967e-06,  8.788095913773e-01, -7.150472427928e-02]])\n",
    "\n",
    "A3 = np.array([[0.131923621844, 0.245316154195, 0.732362341613, 0.957047891764],\n",
    "       [0.91290446184 , 0.512312007959, 0.391938831444, 0.092509684772],\n",
    "       [0.648708523652, 0.608576675797, 0.576773587276, 0.065385122929],\n",
    "       [0.502955480393, 0.084082960221, 0.659487390444, 0.662958739412]])"
   ]
  },
  {
   "cell_type": "code",
   "execution_count": null,
   "metadata": {},
   "outputs": [],
   "source": []
  },
  {
   "cell_type": "markdown",
   "metadata": {},
   "source": [
    "# Q3b\n",
    "\n",
    "With $b = [1,2,3,4]$ and $\\delta b = [0.1,0,0,0]$ for $A2$ and $A3$ calculate the percentage change in $x$ due to a small change in $b$, i.e., calculate \n",
    "\n",
    "$$100\\times\\frac{\\lVert \\delta x_i\\rVert_2}{\\lVert x_i \\rVert_2}\\quad\\text{and}\\quad 100\\times\\frac{\\lVert \\delta b\\rVert_2}{\\lVert b \\rVert_2}$$\n",
    "\n",
    "where $(x_i+\\delta x_i)  = A_i^{-1}(b+\\delta b)$ and $i\\in\\{2,3\\}$."
   ]
  },
  {
   "cell_type": "code",
   "execution_count": null,
   "metadata": {},
   "outputs": [],
   "source": []
  },
  {
   "cell_type": "markdown",
   "metadata": {},
   "source": [
    "Which system of equations is more sensitive to small changes in $b$? How could you have guessed this from the answer to the Q3a?"
   ]
  },
  {
   "cell_type": "code",
   "execution_count": 10,
   "metadata": {},
   "outputs": [],
   "source": [
    "# Answer here\n",
    "#"
   ]
  },
  {
   "cell_type": "markdown",
   "metadata": {},
   "source": [
    "# Question 4: eigensystems\n",
    "\n",
    "In this question we look at finding eigenvalues and eigenvectors\n",
    "\n",
    "## Q4a\n",
    "\n",
    "You may use any of NumPy's functions for this sub-question.\n",
    "\n",
    "Find the eigenvalues and eigenvectors for the below matrix. Print out the eigenvalues sorted by descending value and explicitly show that eigenvalues/eigenvector pairs satisfy $Ax = \\lambda x$."
   ]
  },
  {
   "cell_type": "code",
   "execution_count": 50,
   "metadata": {},
   "outputs": [],
   "source": [
    "A = np.array([[1,4,5],[4,5,4],[6,7,9]])"
   ]
  },
  {
   "cell_type": "code",
   "execution_count": null,
   "metadata": {},
   "outputs": [],
   "source": []
  },
  {
   "cell_type": "markdown",
   "metadata": {},
   "source": [
    "# Q4b\n",
    "\n",
    "Without using NumPy's `la.eig()` (or similar functions), find the 4 eigenvalues and eigenvectors of the following matrix. Hint: Use the power method for the max eigenvalue (given below in `MaxEigenvalue`), the power method applied to the inverse for the smallest eigenvalue, and apply Hotelling's deflation twice to find the second and third eigenvalues/eigenvectors."
   ]
  },
  {
   "cell_type": "code",
   "execution_count": 52,
   "metadata": {},
   "outputs": [],
   "source": [
    "A = np.array([[1.935052353404, 0.887037260957, 1.534235483277, 1.370691224125],\n",
    "       [0.887037260957, 0.81275989158 , 0.610238622918, 0.999150521052],\n",
    "       [1.534235483277, 0.610238622918, 1.562260333538, 1.007843062517],\n",
    "       [1.370691224125, 0.999150521052, 1.007843062517, 1.813258814483]])"
   ]
  },
  {
   "cell_type": "code",
   "execution_count": 53,
   "metadata": {},
   "outputs": [],
   "source": [
    "def MaxEigenvalue(A, err):\n",
    "    (m,n) = A.shape\n",
    "    if(m != n):\n",
    "        print(\"Matrix must be square\")\n",
    "        return\n",
    "    x = np.random.rand(m)\n",
    "    \n",
    "    lam = 0.1\n",
    "    lamprev = 1\n",
    "    while np.abs(1-lam/lamprev) > err:\n",
    "        p = np.dot(A,x)\n",
    "        lamprev = lam\n",
    "        lam = np.max(p)\n",
    "        x = p/lam\n",
    "        \n",
    "    x = x/la.norm(x)\n",
    "    return (lam,x)"
   ]
  },
  {
   "cell_type": "code",
   "execution_count": null,
   "metadata": {},
   "outputs": [],
   "source": []
  },
  {
   "cell_type": "markdown",
   "metadata": {},
   "source": [
    "Check your answers against Numpy's results from `la.eig(A)`"
   ]
  },
  {
   "cell_type": "code",
   "execution_count": null,
   "metadata": {},
   "outputs": [],
   "source": []
  }
 ],
 "metadata": {
  "kernelspec": {
   "display_name": "Python 3",
   "language": "python",
   "name": "python3"
  },
  "language_info": {
   "codemirror_mode": {
    "name": "ipython",
    "version": 3
   },
   "file_extension": ".py",
   "mimetype": "text/x-python",
   "name": "python",
   "nbconvert_exporter": "python",
   "pygments_lexer": "ipython3",
   "version": "3.7.3"
  }
 },
 "nbformat": 4,
 "nbformat_minor": 2
}
