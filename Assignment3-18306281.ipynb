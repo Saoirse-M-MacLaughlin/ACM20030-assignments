{
 "cells": [
  {
   "cell_type": "markdown",
   "metadata": {},
   "source": [
    "# Assignment 3\n",
    "This assignment covers material on fitting data and solving ODEs. The assignment is due on by 7pm on Friday the 6th of March.\n",
    "\n",
    "The breakdown of the marks is as follows:\n",
    "\n",
    "Q0: [1 mark]  \n",
    "Q1: [7 marks]  \n",
    "Q2: [5 marks]  \n",
    "Q3: [5 marks]  \n",
    "Q4: [5 marks]  \n",
    "Q5: [7 marks]  "
   ]
  },
  {
   "cell_type": "markdown",
   "metadata": {},
   "source": [
    "# Question 0\n",
    "\n",
    "You should have saved this notebook to your ACM20030-Assignments folder. Now:\n",
    "- commit the notebook to your local repository\n",
    "- push the changes to the GitHub"
   ]
  },
  {
   "cell_type": "code",
   "execution_count": 24,
   "metadata": {},
   "outputs": [],
   "source": [
    "import numpy as np\n",
    "import matplotlib.pyplot as plt\n",
    "\n",
    "# The below commands make the font and image size bigger\n",
    "plt.rcParams.update({'font.size': 22})\n",
    "plt.rcParams[\"figure.figsize\"] = (15,10)"
   ]
  },
  {
   "cell_type": "markdown",
   "metadata": {},
   "source": [
    "## Question 1: Linear least-square fitting\n",
    "This questions asks you to write a function to find the best linear fit to a dataset and then apply that function to a few data sets. As always when testing a new piece of code, you should first test the code on a small data set for which you know the result. The other advantage of testing with a small dataset is that you can manually check each step of the calculation if you need to debug the code.\n",
    "\n",
    "The normal equations for linear least-squares fitting are given by:  \n",
    "  \n",
    "$$\n",
    "  \\begin{align*}\n",
    "    m \\sum x_i^2 + c \\sum x_i &= \\sum x_i y_i \\\\\n",
    "    m \\sum x_i + cn &= \\sum y_i\n",
    "  \\end{align*}\n",
    "$$\n",
    "  \n",
    "Write these simultaneous equations in matrix for $A.x = b$, where $A$ is a $2\\times2$ matrix and $x=\\{m,c\\}$ and $b$ are column vectors. Note that for a $2\\times2$ matrix \n",
    "$$\n",
    "A = \\begin{pmatrix}\n",
    "    a  & b \\\\\n",
    "    c  & d \n",
    "\\end{pmatrix}\n",
    "$$\n",
    "the inverse is given by\n",
    "$$\n",
    "A^{-1} = \\frac{1}{ad-bc}\\begin{pmatrix}\n",
    "    d  & -b \\\\\n",
    "    -c  & a \n",
    "\\end{pmatrix}\n",
    "$$"
   ]
  },
  {
   "cell_type": "markdown",
   "metadata": {},
   "source": [
    "### Q1a.\n",
    "\n",
    "Write a function that takes in two arrays of data for the x and y values and returns the values of $m$ and $c$ from for the linear least squares fit. Call the function `LinearLeastSquares`. You might want to use the function `np.dot(A,b)` which will take the dot product of a matrix, $A$ and a vector, $b$."
   ]
  },
  {
   "cell_type": "code",
   "execution_count": 25,
   "metadata": {},
   "outputs": [],
   "source": [
    "#defining linear least squares function\n",
    "\n",
    "def LinearLeastSquares(x,y):\n",
    "    n = np.size(x)\n",
    "    A = np.array([[sum(x**2),sum(x)],[sum(x),n]])\n",
    "    detA = 1/((sum(x**2)*n)-(sum(x)*sum(x)))\n",
    "    An = np.array([[n,-sum(x)],[-sum(x),sum(x**2)]])\n",
    "    b = np.array([[sum(x*y)],[sum(y)]])\n",
    "    return detA*np.dot(An,b)\n",
    "    \n",
    "#FINISHED"
   ]
  },
  {
   "cell_type": "markdown",
   "metadata": {},
   "source": [
    "Test you function with the data we looked at in the lecture, given below:"
   ]
  },
  {
   "cell_type": "code",
   "execution_count": 26,
   "metadata": {},
   "outputs": [],
   "source": [
    "testdata  = np.array([[20.5, 765], [32.7, 826], [51.0, 873], [73.2,942], [95.7,1032]])\n",
    "#FINISHED"
   ]
  },
  {
   "cell_type": "markdown",
   "metadata": {},
   "source": [
    "You should get the result $m=3.394872522996579$ and $c=702.1720627939267$. Explicitly print these values out."
   ]
  },
  {
   "cell_type": "code",
   "execution_count": 27,
   "metadata": {},
   "outputs": [
    {
     "name": "stdout",
     "output_type": "stream",
     "text": [
      "[[  3.39487252]\n",
      " [702.17206279]]\n"
     ]
    }
   ],
   "source": [
    "print(LinearLeastSquares(testdata[:,0],testdata[:,1]))\n",
    "#FINISHED"
   ]
  },
  {
   "cell_type": "markdown",
   "metadata": {},
   "source": [
    "### Q1b\n",
    "Plot the data, using `plt.scatter(xi, yi)`, and the best fit curve over the full range of the data. Add a legend to the plot that labels the data and line with its equation."
   ]
  },
  {
   "cell_type": "code",
   "execution_count": 28,
   "metadata": {},
   "outputs": [
    {
     "data": {
      "image/png": "[encoded data removed]",
      "text/plain": [
       "<Figure size 432x288 with 1 Axes>"
      ]
     },
     "metadata": {
      "needs_background": "light"
     },
     "output_type": "display_data"
    }
   ],
   "source": [
    "from scipy.optimize import curve_fit\n",
    "%matplotlib inline\n",
    "\n",
    "#define function using equation of a line\n",
    "def fitfunc(x,m,c): \n",
    "    return m*x+c\n",
    "\n",
    "x = testdata[:,0]\n",
    "y = testdata[:,1]\n",
    "plt.scatter(x,y)\n",
    "#plt.plot(x,y)\n",
    "plt.title('First Scatter Plot')\n",
    "plt.xlabel('xi')\n",
    "plt.ylabel('yi')\n",
    "plt.legend(\"Test Data\")\n",
    "pars, cov = curve_fit(fitfunc,x,y)\n",
    "plt.plot(x,fitfunc(x,*pars),'g-')\n",
    "plt.grid(True)\n",
    "plt.show()\n",
    "\n",
    "#FINISHED"
   ]
  },
  {
   "cell_type": "markdown",
   "metadata": {},
   "source": [
    "### Q1c\n",
    "Load the data in `FitData1.dat` and fit the data using your `LinearLeastSquares` function. Print out the value of $m$ and $c$ to 5 decimal places, and plot the data and the fit."
   ]
  },
  {
   "cell_type": "code",
   "execution_count": 29,
   "metadata": {},
   "outputs": [
    {
     "name": "stdout",
     "output_type": "stream",
     "text": [
      "[[ 2.94164768]\n",
      " [-8.51367617]]\n"
     ]
    },
    {
     "data": {
      "image/png": "[encoded data removed]",
      "text/plain": [
       "<Figure size 432x288 with 1 Axes>"
      ]
     },
     "metadata": {
      "needs_background": "light"
     },
     "output_type": "display_data"
    }
   ],
   "source": [
    "#loading data\n",
    "data1 = np.loadtxt(\"FitData1.dat\")\n",
    "\n",
    "#printing m and c\n",
    "x = data1[:,0]\n",
    "y = data1[:,1]\n",
    "print(LinearLeastSquares(x,y))\n",
    "\n",
    "\n",
    "#plotting data\n",
    "x = data1[:,0]\n",
    "y = data1[:,1]\n",
    "plt.scatter(x,y)\n",
    "plt.title('Second Scatter Plot (Data1)')\n",
    "plt.xlabel('xi')\n",
    "plt.ylabel('yi')\n",
    "plt.legend(\"1\")\n",
    "pars, cov = curve_fit(fitfunc,x,y)\n",
    "plt.plot(x,fitfunc(x,*pars),'g-')\n",
    "plt.grid(True)\n",
    "plt.show()\n",
    "\n",
    "#DECIAML PLACES"
   ]
  },
  {
   "cell_type": "markdown",
   "metadata": {},
   "source": [
    "### Q1d\n",
    "Load the data in `FitData2.dat`. Determine whether this data is (approximately) power law or exponential. Depending on the answer, fit either the log or log-log of the data using your `LinearLeastSquares` function. Print the values of $m$ and $c$, and plot the (log or log-log of the) data and the fit. State explicitly what the approximate behaviour of the data is."
   ]
  },
  {
   "cell_type": "code",
   "execution_count": 30,
   "metadata": {},
   "outputs": [
    {
     "name": "stdout",
     "output_type": "stream",
     "text": [
      "[[-0.00051517]\n",
      " [ 0.03481177]]\n"
     ]
    },
    {
     "data": {
      "image/png": "[encoded data removed]",
      "text/plain": [
       "<Figure size 432x288 with 1 Axes>"
      ]
     },
     "metadata": {
      "needs_background": "light"
     },
     "output_type": "display_data"
    }
   ],
   "source": [
    "#loading data\n",
    "data2 = np.loadtxt(\"FitData2.dat\")\n",
    "\n",
    "#printing m and c\n",
    "x = data2[:,0]\n",
    "y = data2[:,1]\n",
    "print(LinearLeastSquares(x,y))  \n",
    "\n",
    "#plotting data\n",
    "x = data2[:,0]\n",
    "y = data2[:,1]\n",
    "plt.scatter(np.log(x),np.log(y))\n",
    "plt.title('Third Scatter Plot (Data2)')\n",
    "plt.xlabel('log(xi)')\n",
    "plt.ylabel('log(yi)')\n",
    "plt.legend('2')\n",
    "plt.xlim(-0.5,5)\n",
    "plt.ylim(-15,0)\n",
    "pars, cov = curve_fit(fitfunc,np.log(x),np.log(y))\n",
    "plt.plot(x,fitfunc(x,*pars),'g-')\n",
    "plt.grid(True)\n",
    "plt.show()\n",
    "\n",
    "#the data gives a straight line with the log-log scale, implies the data is exponential \n",
    "#with m being the index and c being the contant term\n",
    "\n",
    "#FINISHED?"
   ]
  },
  {
   "cell_type": "markdown",
   "metadata": {},
   "source": [
    "Commit and push your code to GitHub"
   ]
  },
  {
   "cell_type": "markdown",
   "metadata": {},
   "source": [
    "## Question 2: second-order ODEs\n",
    "\n",
    "\n",
    "Use the below second-order version of the (fixed-step) RK2 function for this question."
   ]
  },
  {
   "cell_type": "code",
   "execution_count": 31,
   "metadata": {},
   "outputs": [],
   "source": [
    "def RK2(f, dx, x0, y0, imax):\n",
    "    output = np.empty((imax, 3))\n",
    "    i = 0\n",
    "    xi = x0\n",
    "    yi = y0\n",
    "    while(i < imax):\n",
    "        k1 = dx*f(xi, yi)\n",
    "        k2 = dx*f(xi + dx, yi + k1)\n",
    "        yi = yi + 0.5*(k1 + k2)\n",
    "        xi += dx\n",
    "        output[i, 0] = xi\n",
    "        output[i, 1] = yi[0]\n",
    "        output[i, 2] = yi[1]\n",
    "        i += 1\n",
    "    return output"
   ]
  },
  {
   "cell_type": "markdown",
   "metadata": {},
   "source": [
    "### Q2a\n",
    "\n",
    "Write the follow ODEs in first-order form and then solve them using the `RK2` function. Plot the numerical and analytic solution on the same plot (with a grid, labelling the axes and a legend).\n",
    "\n",
    "$$\n",
    " y''(x) - y'(x) +\\frac{1}{4} y(x) = -\\sin(x)\n",
    "$$\n",
    "with $y(0) = 0, y'(0) = 73/100$. Find the numerical solution between $x=0$ and $x=9$.\n",
    "\n",
    "This has the analytic solution:\n",
    "\n",
    "$$\n",
    "y(x) = \\frac{1}{100} \\left(-7 e^{x/2} x+64 e^{x/2}+48 \\sin (x)-64 \\cos (x)\\right)\n",
    "$$\n",
    "\n",
    "For the numerical solution, start with a step size of $\\Delta x = 0.1$. You may need to adjust this to get the numerical solution to agree with the analytic solution."
   ]
  },
  {
   "cell_type": "code",
   "execution_count": 96,
   "metadata": {},
   "outputs": [
    {
     "name": "stdout",
     "output_type": "stream",
     "text": [
      "Numerical =  [[ 1.00000000e-02  7.33650000e-03  7.37277376e-01]\n",
      " [ 2.00000000e-02  1.47455459e-02  7.44508872e-01]\n",
      " [ 3.00000000e-02  2.22266758e-02  7.51693861e-01]\n",
      " ...\n",
      " [ 8.98000000e+00  1.81116623e+00 -5.88178506e+00]\n",
      " [ 8.99000000e+00  1.75201014e+00 -5.94965288e+00]\n",
      " [ 9.00000000e+00  1.69217317e+00 -6.01796215e+00]]\n",
      "Analytical = [0.         0.14589869 0.31322618 0.49823648 0.69670734 0.90408766\n",
      " 1.11565593 1.32668429 1.53260261 1.72915693 1.91255697 2.07960746\n",
      " 2.22781891 2.35549377 2.461785   2.54672487 2.61122273 2.65703159\n",
      " 2.68668431 2.70340115 2.71097143 2.7136128  2.7158123  2.72215393\n",
      " 2.73713794 2.764997   2.80951465 2.87385117 2.96038144 3.07054915\n",
      " 3.20474073 3.36218166 3.54085676 3.73745523 3.94733982 4.16453867\n",
      " 4.38175717 4.59040618 4.78064194 4.94141229 5.06050294 5.12457724\n",
      " 5.1192021  5.02885292 4.83688998 4.52549916 4.07558968 3.46664249\n",
      " 2.67650283 1.68111155]\n"
     ]
    },
    {
     "data": {
      "image/png": "[encoded data removed]",
      "text/plain": [
       "<Figure size 432x288 with 1 Axes>"
      ]
     },
     "metadata": {
      "needs_background": "light"
     },
     "output_type": "display_data"
    }
   ],
   "source": [
    "def F(x,y):\n",
    "    return np.array([y[1],y[1]-(0.25)*y[0]-np.sin(x)])\n",
    "\n",
    "RK2ans = RK2(F,0.01,0,[0,73/100],900) "
   ]
  },
  {
   "cell_type": "markdown",
   "metadata": {},
   "source": [
    "How small do you have to make the step size for the numerical solution to agree well with the analytic solution? What does this suggest about the equation?"
   ]
  },
  {
   "cell_type": "code",
   "execution_count": 91,
   "metadata": {},
   "outputs": [],
   "source": [
    "#At a step size of 0.01 with a larger number of sample, the final values agree with the numerical values\n",
    "#Analytical = 1.68111155\n",
    "#Numerical = 1.69217317\n",
    "#These two final values only differ by about 0.01\n",
    "#This suggests that y is infinely differentiable"
   ]
  },
  {
   "cell_type": "markdown",
   "metadata": {},
   "source": [
    "### Q2b\n",
    "\n",
    "Write the follow ODEs in first-order form and then solve them using the `RK2` function. Plot the numerical solution (with a grid and labelling the axes). There is no analytic solution to compare against.\n",
    "\n",
    "$$y''(x) + x y'(x) - \\sin(x) y(x) = 0 $$"
   ]
  },
  {
   "cell_type": "code",
   "execution_count": 102,
   "metadata": {},
   "outputs": [
    {
     "name": "stdout",
     "output_type": "stream",
     "text": [
      "Numerical =  [[0.01       0.0073     0.73003686]\n",
      " [0.02       0.01460074 0.7301482 ]\n",
      " [0.03       0.02190296 0.73033551]\n",
      " [0.04       0.02920745 0.73060029]\n",
      " [0.05       0.03651497 0.7309441 ]\n",
      " [0.06       0.04382633 0.7313685 ]\n",
      " [0.07       0.05114234 0.73187508]\n",
      " [0.08       0.05846383 0.73246545]\n",
      " [0.09       0.06579165 0.73314126]\n",
      " [0.1        0.07312666 0.73390417]\n",
      " [0.11       0.08046973 0.73475588]\n",
      " [0.12       0.08782177 0.73569812]\n",
      " [0.13       0.0951837  0.73673264]\n",
      " [0.14       0.10255643 0.73786124]\n",
      " [0.15       0.10994092 0.73908571]\n",
      " [0.16       0.11733814 0.74040793]\n",
      " [0.17       0.12474908 0.74182976]\n",
      " [0.18       0.13217474 0.74335312]\n",
      " [0.19       0.13961614 0.74497997]\n",
      " [0.2        0.14707434 0.74671228]\n",
      " [0.21       0.15455039 0.74855209]\n",
      " [0.22       0.16204538 0.75050146]\n",
      " [0.23       0.16956042 0.75256247]\n",
      " [0.24       0.17709663 0.75473729]\n",
      " [0.25       0.18465517 0.75702807]\n",
      " [0.26       0.19223719 0.75943706]\n",
      " [0.27       0.19984391 0.76196651]\n",
      " [0.28       0.20747652 0.76461873]\n",
      " [0.29       0.21513628 0.76739609]\n",
      " [0.3        0.22282445 0.77030099]\n",
      " [0.31       0.2305423  0.77333588]\n",
      " [0.32       0.23829117 0.77650326]\n",
      " [0.33       0.24607237 0.77980569]\n",
      " [0.34       0.25388728 0.78324577]\n",
      " [0.35       0.26173729 0.78682617]\n",
      " [0.36       0.26962381 0.79054959]\n",
      " [0.37       0.27754828 0.79441883]\n",
      " [0.38       0.28551218 0.79843669]\n",
      " [0.39       0.29351702 0.80260609]\n",
      " [0.4        0.30156431 0.80692996]\n",
      " [0.41       0.30965562 0.81141134]\n",
      " [0.42       0.31779254 0.8160533 ]\n",
      " [0.43       0.32597669 0.820859  ]\n",
      " [0.44       0.33420972 0.82583166]\n",
      " [0.45       0.34249332 0.83097456]\n",
      " [0.46       0.35082921 0.83629108]\n",
      " [0.47       0.35921915 0.84178465]\n",
      " [0.48       0.36766491 0.84745879]\n",
      " [0.49       0.37616832 0.85331709]\n",
      " [0.5        0.38473125 0.85936324]\n",
      " [0.51       0.39335559 0.865601  ]\n",
      " [0.52       0.40204328 0.87203421]\n",
      " [0.53       0.41079628 0.87866681]\n",
      " [0.54       0.41961662 0.88550283]\n",
      " [0.55       0.42850634 0.89254639]\n",
      " [0.56       0.43746755 0.8998017 ]\n",
      " [0.57       0.44650238 0.90727308]\n",
      " [0.58       0.45561301 0.91496495]\n",
      " [0.59       0.46480168 0.92288183]\n",
      " [0.6        0.47407065 0.93102834]\n",
      " [0.61       0.48342225 0.93940924]\n",
      " [0.62       0.49285884 0.94802935]\n",
      " [0.63       0.50238285 0.95689367]\n",
      " [0.64       0.51199672 0.96600726]\n",
      " [0.65       0.521703   0.97537535]\n",
      " [0.66       0.53150424 0.98500326]\n",
      " [0.67       0.54140307 0.99489647]\n",
      " [0.68       0.55140217 1.00506056]\n",
      " [0.69       0.56150428 1.01550128]\n",
      " [0.7        0.5717122  1.02622451]\n",
      " [0.71       0.58202878 1.03723626]\n",
      " [0.72       0.59245693 1.0485427 ]\n",
      " [0.73       0.60299964 1.06015015]\n",
      " [0.74       0.61365995 1.0720651 ]\n",
      " [0.75       0.62444095 1.08429418]\n",
      " [0.76       0.63534584 1.09684419]\n",
      " [0.77       0.64637784 1.10972212]\n",
      " [0.78       0.65754029 1.12293512]\n",
      " [0.79       0.66883656 1.13649051]\n",
      " [0.8        0.68027011 1.15039581]\n",
      " [0.81       0.69184448 1.16465873]\n",
      " [0.82       0.70356329 1.17928717]\n",
      " [0.83       0.71543023 1.19428922]\n",
      " [0.84       0.72744909 1.2096732 ]\n",
      " [0.85       0.73962371 1.22544763]\n",
      " [0.86       0.75195805 1.24162124]\n",
      " [0.87       0.76445615 1.258203  ]\n",
      " [0.88       0.77712212 1.27520209]\n",
      " [0.89       0.7899602  1.29262796]\n",
      " [0.9        0.80297469 1.31049026]]\n"
     ]
    },
    {
     "data": {
      "image/png": "[encoded data removed]",
      "text/plain": [
       "<Figure size 432x288 with 1 Axes>"
      ]
     },
     "metadata": {
      "needs_background": "light"
     },
     "output_type": "display_data"
    }
   ],
   "source": [
    "def G(x,y):\n",
    "    return np.array([y[1],y[1]*x + np.sin(x)*y[0]])\n",
    "\n",
    "RK2ans2 = RK2(G,0.01,0,[0,73/100],90)\n",
    "print('Numerical = ', RK2ans2)\n",
    "\n",
    "x = np.linspace(0,9)\n",
    "#Numerical\n",
    "plt.scatter(RK2ans2[:,0],RK2ans2[:,1], color = 'red', label = 'Numerical')\n",
    "#legend, title, labels\n",
    "plt.legend()\n",
    "plt.title('Plot of Second ODE Solution')\n",
    "plt.xlabel('x')\n",
    "plt.ylabel('y(x)')\n",
    "plt.grid(True)\n",
    "plt.show()"
   ]
  },
  {
   "cell_type": "markdown",
   "metadata": {},
   "source": [
    "Commit and push your code to GitHub"
   ]
  },
  {
   "cell_type": "markdown",
   "metadata": {},
   "source": [
    "## Question 3: chaos\n",
    "\n",
    "(Q3a): Use SciPy's `solve_ivp` to solve the Lorenz system:\n",
    "\n",
    "$$\\begin{align}\n",
    "\\frac{dx}{dt} &= \\sigma(y-x) \\\\\n",
    "\\frac{dy}{dt} &= x(\\rho -z) - y   \\\\\n",
    "\\frac{dz}{dt} &= x y- \\beta z\n",
    "\\end{align}$$\n",
    "\n",
    "with $ \\rho = 28$, $\\sigma = 10$ and $\\beta = 8/3$, and initial conditions $x(0) = 1, y(0) = 1, z(0) = 1$.\n",
    "\n",
    "You'll need to `import` the `solve_ivp` function from `scipy`. Solve for the solution between $x=0$ and $x=30$ and pass the optional argument `t_eval=np.linspace(0,30,10000)` to `solve_ivp` to densely sample the result."
   ]
  },
  {
   "cell_type": "code",
   "execution_count": 129,
   "metadata": {},
   "outputs": [
    {
     "ename": "ValueError",
     "evalue": "`method` must be one of {'RK23': <class 'scipy.integrate._ivp.rk.RK23'>, 'RK45': <class 'scipy.integrate._ivp.rk.RK45'>, 'Radau': <class 'scipy.integrate._ivp.radau.Radau'>, 'BDF': <class 'scipy.integrate._ivp.bdf.BDF'>, 'LSODA': <class 'scipy.integrate._ivp.lsoda.LSODA'>} or OdeSolver class.",
     "output_type": "error",
     "traceback": [
      "\u001b[1;31m---------------------------------------------------------------------------\u001b[0m",
      "\u001b[1;31mValueError\u001b[0m                                Traceback (most recent call last)",
      "\u001b[1;32m<ipython-input-129-6cf93cf8358e>\u001b[0m in \u001b[0;36m<module>\u001b[1;34m\u001b[0m\n\u001b[0;32m     14\u001b[0m \u001b[1;33m\u001b[0m\u001b[0m\n\u001b[0;32m     15\u001b[0m \u001b[1;33m\u001b[0m\u001b[0m\n\u001b[1;32m---> 16\u001b[1;33m \u001b[0msolLorenz\u001b[0m \u001b[1;33m=\u001b[0m \u001b[0msolve_ivp\u001b[0m\u001b[1;33m(\u001b[0m\u001b[0mlorenz_deriv\u001b[0m\u001b[1;33m,\u001b[0m\u001b[1;36m1\u001b[0m\u001b[1;33m,\u001b[0m\u001b[1;36m1\u001b[0m\u001b[1;33m,\u001b[0m\u001b[1;36m1\u001b[0m\u001b[1;33m,\u001b[0m\u001b[0mt_eval\u001b[0m\u001b[1;33m=\u001b[0m\u001b[0mnp\u001b[0m\u001b[1;33m.\u001b[0m\u001b[0mlinspace\u001b[0m\u001b[1;33m(\u001b[0m\u001b[1;36m0\u001b[0m\u001b[1;33m,\u001b[0m\u001b[1;36m30\u001b[0m\u001b[1;33m,\u001b[0m\u001b[1;36m10000\u001b[0m\u001b[1;33m)\u001b[0m\u001b[1;33m)\u001b[0m\u001b[1;33m\u001b[0m\u001b[1;33m\u001b[0m\u001b[0m\n\u001b[0m\u001b[0;32m     17\u001b[0m \u001b[0mprint\u001b[0m\u001b[1;33m(\u001b[0m\u001b[0msolLorenz\u001b[0m\u001b[1;33m)\u001b[0m\u001b[1;33m\u001b[0m\u001b[1;33m\u001b[0m\u001b[0m\n",
      "\u001b[1;32m~\\Anaconda3\\lib\\site-packages\\scipy\\integrate\\_ivp\\ivp.py\u001b[0m in \u001b[0;36msolve_ivp\u001b[1;34m(fun, t_span, y0, method, t_eval, dense_output, events, vectorized, **options)\u001b[0m\n\u001b[0;32m    427\u001b[0m             inspect.isclass(method) and issubclass(method, OdeSolver)):\n\u001b[0;32m    428\u001b[0m         raise ValueError(\"`method` must be one of {} or OdeSolver class.\"\n\u001b[1;32m--> 429\u001b[1;33m                          .format(METHODS))\n\u001b[0m\u001b[0;32m    430\u001b[0m \u001b[1;33m\u001b[0m\u001b[0m\n\u001b[0;32m    431\u001b[0m     \u001b[0mt0\u001b[0m\u001b[1;33m,\u001b[0m \u001b[0mtf\u001b[0m \u001b[1;33m=\u001b[0m \u001b[0mfloat\u001b[0m\u001b[1;33m(\u001b[0m\u001b[0mt_span\u001b[0m\u001b[1;33m[\u001b[0m\u001b[1;36m0\u001b[0m\u001b[1;33m]\u001b[0m\u001b[1;33m)\u001b[0m\u001b[1;33m,\u001b[0m \u001b[0mfloat\u001b[0m\u001b[1;33m(\u001b[0m\u001b[0mt_span\u001b[0m\u001b[1;33m[\u001b[0m\u001b[1;36m1\u001b[0m\u001b[1;33m]\u001b[0m\u001b[1;33m)\u001b[0m\u001b[1;33m\u001b[0m\u001b[1;33m\u001b[0m\u001b[0m\n",
      "\u001b[1;31mValueError\u001b[0m: `method` must be one of {'RK23': <class 'scipy.integrate._ivp.rk.RK23'>, 'RK45': <class 'scipy.integrate._ivp.rk.RK45'>, 'Radau': <class 'scipy.integrate._ivp.radau.Radau'>, 'BDF': <class 'scipy.integrate._ivp.bdf.BDF'>, 'LSODA': <class 'scipy.integrate._ivp.lsoda.LSODA'>} or OdeSolver class."
     ]
    }
   ],
   "source": [
    "from scipy.integrate import solve_ivp #as solve\n",
    "    \n",
    "#def solve_lorenz(N=10, angle=0.0, max_time=4.0, sigma=10, beta=8/3, rho=28):\n",
    "    \n",
    "\n",
    "def lorenz_deriv(x, y, z, sigma=10, beta=8/3, rho=28):\n",
    "    x0 = 1\n",
    "    y0 = 1\n",
    "    z0 = 1\n",
    "    x_dot = sigma*(y - x)\n",
    "    y_dot = x*(rho - z) - y\n",
    "    z_dot = x*y - beta*z\n",
    "    return x_dot, y_dot, z_dot\n",
    "    \n",
    "    \n",
    "solLorenz = solve_ivp(lorenz_deriv,1,1,1,t_eval=np.linspace(0,30,10000))\n",
    "print(solLorenz)"
   ]
  },
  {
   "cell_type": "markdown",
   "metadata": {},
   "source": [
    "Assign your solution to a variable called `solLorenz` and use the following code to make a 3D plot of the solution"
   ]
  },
  {
   "cell_type": "code",
   "execution_count": null,
   "metadata": {},
   "outputs": [],
   "source": [
    "from mpl_toolkits.mplot3d import Axes3D\n",
    "fig = plt.figure()\n",
    "ax = fig.gca(projection='3d')\n",
    "ax.plot(solLorenz.y[0], solLorenz.y[1], solLorenz.y[2]);"
   ]
  },
  {
   "cell_type": "markdown",
   "metadata": {},
   "source": [
    "(Q3b): The Lorenz ODEs are a classic example of a system of ODEs which exhibit chaos, i.e., small changes in the initial parameters will result in large changes to the solution at late times. To see this, solve the Lorenz system again with initial parameters $x(0) = 1 + 10^{-5}, y(0) = 1, z(0) = 1$, and plot both this solution and the previous solution on a new 3D plot."
   ]
  },
  {
   "cell_type": "code",
   "execution_count": 54,
   "metadata": {},
   "outputs": [],
   "source": []
  },
  {
   "cell_type": "markdown",
   "metadata": {},
   "source": [
    "You should see that initially the two curves are together but later one they start to diverge. The Lorenz system was original developed as a simple model of atmospheric convection and already this simple system, much like real weather, displays chaotic behaviour."
   ]
  },
  {
   "cell_type": "markdown",
   "metadata": {},
   "source": [
    "Commit and push your code to GitHub"
   ]
  },
  {
   "cell_type": "markdown",
   "metadata": {},
   "source": [
    "## Question 4: equilbrium points\n",
    "\n",
    "Using `solve_ivp` solve the non-linear first-order equation:\n",
    "\n",
    "$$u'(x) = u(x)[1-u(x)]$$\n",
    "\n",
    "Find and plot the solution between $x=0$ and $x=8$ for the following 10 initial values: $u(x) = \\{0, 0.2, 0.4, 0.6, 0.8, 1, 1.2, 1.4, 1.8\\}$. Draw a grid on the plot and label your axes.\n",
    "\n",
    "You should find the systems with initial values $u(0) = \\{0,1\\}$ do not evolve as the right-hand side equals zero in these cases. These two values are called *equilibrium points*. You should observe that systems with $u(0) > 0$ should tend to $u=1$ for large $x$ (and away from $u=1$). For this reason we say that $u=1$ is a stable equilbrium and $u=0$ is an unstable equilbrium."
   ]
  },
  {
   "cell_type": "code",
   "execution_count": 172,
   "metadata": {},
   "outputs": [
    {
     "name": "stdout",
     "output_type": "stream",
     "text": [
      "[0.         0.10394714 0.71756643 1.45482981 2.53831623 3.96255093\n",
      " 5.6283213  7.4253288  8.        ]\n",
      "[[0.         0.         0.         0.         0.         0.\n",
      "  0.         0.         0.        ]\n",
      " [0.2        0.21715094 0.33878256 0.5171286  0.75988512 0.92942484\n",
      "  0.98584283 0.997436   0.9985551 ]\n",
      " [0.4        0.42518645 0.57739813 0.74065303 0.89406709 0.97237673\n",
      "  0.99451597 0.99899521 0.99943415]\n",
      " [0.6        0.62466868 0.75455061 0.86533206 0.94999218 0.98746829\n",
      "  0.99750239 0.99954018 0.99974111]\n",
      " [0.8        0.81611452 0.89127813 0.94485884 0.98063041 0.99522252\n",
      "  0.99904389 0.99982351 0.99990064]\n",
      " [1.         1.         1.         1.         1.         1.\n",
      "  1.         1.         1.        ]\n",
      " [1.2        1.1767643  1.08857501 1.04053396 1.01343492 1.00328299\n",
      "  1.00066102 1.00012238 1.00006888]\n",
      " [1.4        1.34681324 1.1625593  1.07183668 1.02344352 1.00572471\n",
      "  1.00115524 1.00021408 1.00012049]\n",
      " [1.6        1.51052237 1.22694566 1.09749907 1.03147735 1.00768898\n",
      "  1.00155463 1.00028831 1.00016227]\n",
      " [1.8        1.66823981 1.28805349 1.1207847  1.03868976 1.00946052\n",
      "  1.00191638 1.00035564 1.00020016]]\n",
      "\n",
      "  message: 'The solver successfully reached the end of the integration interval.'\n",
      "     nfev: 50\n",
      "     njev: 0\n",
      "      nlu: 0\n",
      "      sol: None\n",
      "   status: 0\n",
      "  success: True\n",
      "        t: array([0.        , 0.10394714, 0.71756643, 1.45482981, 2.53831623,\n",
      "       3.96255093, 5.6283213 , 7.4253288 , 8.        ])\n",
      " t_events: None\n",
      "        y: array([[0.        , 0.        , 0.        , 0.        , 0.        ,\n",
      "        0.        , 0.        , 0.        , 0.        ],\n",
      "       [0.2       , 0.21715094, 0.33878256, 0.5171286 , 0.75988512,\n",
      "        0.92942484, 0.98584283, 0.997436  , 0.9985551 ],\n",
      "       [0.4       , 0.42518645, 0.57739813, 0.74065303, 0.89406709,\n",
      "        0.97237673, 0.99451597, 0.99899521, 0.99943415],\n",
      "       [0.6       , 0.62466868, 0.75455061, 0.86533206, 0.94999218,\n",
      "        0.98746829, 0.99750239, 0.99954018, 0.99974111],\n",
      "       [0.8       , 0.81611452, 0.89127813, 0.94485884, 0.98063041,\n",
      "        0.99522252, 0.99904389, 0.99982351, 0.99990064],\n",
      "       [1.        , 1.        , 1.        , 1.        , 1.        ,\n",
      "        1.        , 1.        , 1.        , 1.        ],\n",
      "       [1.2       , 1.1767643 , 1.08857501, 1.04053396, 1.01343492,\n",
      "        1.00328299, 1.00066102, 1.00012238, 1.00006888],\n",
      "       [1.4       , 1.34681324, 1.1625593 , 1.07183668, 1.02344352,\n",
      "        1.00572471, 1.00115524, 1.00021408, 1.00012049],\n",
      "       [1.6       , 1.51052237, 1.22694566, 1.09749907, 1.03147735,\n",
      "        1.00768898, 1.00155463, 1.00028831, 1.00016227],\n",
      "       [1.8       , 1.66823981, 1.28805349, 1.1207847 , 1.03868976,\n",
      "        1.00946052, 1.00191638, 1.00035564, 1.00020016]])\n"
     ]
    },
    {
     "data": {
      "text/plain": [
       "<matplotlib.legend.Legend at 0x1f8ffe1ec88>"
      ]
     },
     "execution_count": 172,
     "metadata": {},
     "output_type": "execute_result"
    },
    {
     "data": {
      "image/png": "[encoded data removed]",
      "text/plain": [
       "<Figure size 432x288 with 1 Axes>"
      ]
     },
     "metadata": {
      "needs_background": "light"
     },
     "output_type": "display_data"
    }
   ],
   "source": [
    "#define function\n",
    "def Udash(t,y):\n",
    "    return y*(1-y)\n",
    "#changed to y from u as pyhton did not like you\n",
    "\n",
    "#solution\n",
    "#u = [0,0.2,0.4,0.6,0.8,1,1.2,1.4,1.8]\n",
    "solU = solve_ivp(Udash,[0,8], [0,0.2,0.4,0.6,0.8,1,1.2,1.4,1.6,1.8])\n",
    "\n",
    "#plotting\n",
    "plt.title('Question 4, Udash Plot')\n",
    "plt.grid(True)\n",
    "plt.xlabel('t')\n",
    "plt.ylabel('u')\n",
    "\n",
    "\n",
    "plt.scatter(solU.t, solU.y[0], color = 'red', label = 'y(0)')\n",
    "plt.scatter(solU.t, solU.y[1], color = 'orange', label = 'y(1)')\n",
    "plt.scatter(solU.t, solU.y[2], color = 'yellow', label = 'y(2)')\n",
    "plt.scatter(solU.t, solU.y[3], color = 'green', label = 'y(3)')\n",
    "plt.scatter(solU.t, solU.y[4], color = 'cyan', label = 'y(4)')\n",
    "plt.scatter(solU.t, solU.y[5], color = 'blue', label = 'y(5)')\n",
    "plt.scatter(solU.t, solU.y[6], color = 'magenta', label = 'y(6)')\n",
    "plt.scatter(solU.t, solU.y[7], color = 'brown', label = 'y(7)')\n",
    "plt.scatter(solU.t, solU.y[8], color = 'black', label = 'y(8)')\n",
    "plt.legend()"
   ]
  },
  {
   "cell_type": "markdown",
   "metadata": {},
   "source": [
    "Commit and push your code to GitHub"
   ]
  },
  {
   "cell_type": "markdown",
   "metadata": {},
   "source": [
    "## Question 5: implicit methods\n",
    "\n",
    "Write a function to solve the following first-order ODE using the backwards Euler method:\n",
    "\n",
    "$$\n",
    "y'(x) = -y(x) + x\n",
    "$$\n",
    "with $y(0) = 1$\n",
    "\n",
    "This has the analytic solution\n",
    "$$\n",
    " y(x) = -1 + 2e^{-x} + x\n",
    "$$\n",
    "\n",
    "Plot the numerical and analytics solutions. Show a grid, label your axes and show a legend."
   ]
  },
  {
   "cell_type": "code",
   "execution_count": 59,
   "metadata": {},
   "outputs": [],
   "source": []
  },
  {
   "cell_type": "markdown",
   "metadata": {},
   "source": [
    "Commit and push your code to GitHub"
   ]
  },
  {
   "cell_type": "markdown",
   "metadata": {},
   "source": [
    "To hand in the assignment: **Zip/compress the directory containing all your assignments and upload it to BrightSpace**"
   ]
  }
 ],
 "metadata": {
  "kernelspec": {
   "display_name": "Python 3",
   "language": "python",
   "name": "python3"
  },
  "language_info": {
   "codemirror_mode": {
    "name": "ipython",
    "version": 3
   },
   "file_extension": ".py",
   "mimetype": "text/x-python",
   "name": "python",
   "nbconvert_exporter": "python",
   "pygments_lexer": "ipython3",
   "version": "3.7.3"
  }
 },
 "nbformat": 4,
 "nbformat_minor": 2
}
