{
 "cells": [
  {
   "cell_type": "code",
   "execution_count": 47,
   "metadata": {},
   "outputs": [],
   "source": [
    "#Importing numpy and matplotlib\n",
    "import numpy as np\n",
    "import matplotlib as plt"
   ]
  },
  {
   "cell_type": "code",
   "execution_count": 2,
   "metadata": {},
   "outputs": [
    {
     "name": "stdout",
     "output_type": "stream",
     "text": [
      "7.810249675906654\n",
      "5.0990195135927845\n",
      "0.841\n"
     ]
    }
   ],
   "source": [
    "#Q1 (a) Defining Vector Length Fuction\n",
    "#v = Vector Length\n",
    "def v(x,y):\n",
    "    result = np.sqrt(x**2 + y**2)\n",
    "    return result\n",
    "\n",
    "#Q1 (b) Vector Length Examples\n",
    "print(v(5,6))\n",
    "print(v(-1,5))\n",
    "\n",
    "#Q1 (c) Modifying Sine to 3 DPs\n",
    "def sin(x):\n",
    "    result = np.sin(1)\n",
    "    return result\n",
    "print(round(sin(1), 3))\n"
   ]
  },
  {
   "cell_type": "code",
   "execution_count": 3,
   "metadata": {},
   "outputs": [
    {
     "name": "stdout",
     "output_type": "stream",
     "text": [
      "1\n",
      "1\n",
      "1\n",
      "0\n",
      "1\n",
      "0\n",
      "1\n",
      "0\n",
      "1\n",
      "0\n"
     ]
    }
   ],
   "source": [
    "#Q2 Function to check if a number is prime\n",
    "def IsPrime(n):\n",
    "    i = 2\n",
    "    while i < np.sqrt(n):\n",
    "        #For each check if it divides n\n",
    "        if(n % i == 0):\n",
    "            return 0\n",
    "        i += 1\n",
    "        #If no divisors are found, the number is prime\n",
    "        return 1\n",
    "     # (b) Fixing first four numbers\n",
    "    if(n < 4):\n",
    "        return 1\n",
    "    if(3 < n < 5):\n",
    "        return 0\n",
    "    \n",
    "#Q2 (a) Does this function work?\n",
    "t = 1\n",
    "while t < 11:\n",
    "    print(IsPrime(t))\n",
    "    t+=1\n",
    "\n",
    "# (a) This does not work for n < 5 or n = 9\n",
    "# (b) n < 5 works after adding #(b) at the end of the loop\n",
    "# (c) n = 9 shows as being prime as the srt of nine is 3"
   ]
  },
  {
   "cell_type": "code",
   "execution_count": 20,
   "metadata": {},
   "outputs": [
    {
     "name": "stdout",
     "output_type": "stream",
     "text": [
      "1\n",
      "1\n",
      "1\n",
      "0\n",
      "1\n",
      "0\n",
      "1\n",
      "0\n",
      "1\n",
      "0\n"
     ]
    }
   ],
   "source": [
    "#NOT WORKING\n",
    "#Importing numpy and matplotlib\n",
    "import numpy as np\n",
    "import matplotlib as plt\n",
    "#Q2 Function to check if a number is prime\n",
    "def IsPrime(n):\n",
    "    for i in range(2,10):\n",
    "        while i <= np.sqrt(n):\n",
    "            #For each check if it divides n\n",
    "            if(n%i == 0):\n",
    "                return 0\n",
    "            # (c) adding a function to fix 9\n",
    "            #If no divisors are found, the number is prime\n",
    "            else:\n",
    "                return 1\n",
    "            # (b) Fixing first four numbers\n",
    "        if(n < 4):\n",
    "            return 1\n",
    "        if(3 < n < 5):\n",
    "            return 0\n",
    "    \n",
    "#Q2 (a) Does this function work?\n",
    "t = 1\n",
    "while t < 11:\n",
    "    print(IsPrime(t))\n",
    "    t+=1\n",
    "\n",
    "# (a) This does not work for n < 5 or n = 9\n",
    "# (b) n < 5 works after adding #(b) at the end of the loop\n",
    "# (c) n = 9 shows as being prime as it is an odd number, however it is divisable by three making it not prime."
   ]
  },
  {
   "cell_type": "code",
   "execution_count": 67,
   "metadata": {},
   "outputs": [
    {
     "name": "stdout",
     "output_type": "stream",
     "text": [
      "1\n",
      "1\n",
      "1\n",
      "0\n",
      "1\n",
      "0\n",
      "1\n",
      "0\n",
      "0\n",
      "0\n"
     ]
    }
   ],
   "source": [
    "#Q2 Function to check if a number is prime\n",
    "def IsPrime(n):\n",
    "    i = 2\n",
    "    while i <= np.sqrt(n):\n",
    "        #For each check if it divides n\n",
    "        if(n % i == 0):\n",
    "            return 0\n",
    "        i += 1\n",
    "    #If no divisors are found, the number is prime\n",
    "    return 1\n",
    "     # (b) Fixing first four numbers\n",
    "    if(n < 4):\n",
    "        return 1\n",
    "    if(3 < n < 5):\n",
    "        return 0\n",
    "    \n",
    "#Q2 (a) Does this function work?\n",
    "t = 1\n",
    "while t < 11:\n",
    "    print(IsPrime(t))\n",
    "    t+=1\n",
    "    \n",
    "#Fixing is nine a prime; the return (1) statement was withing the first if statement, so the loop was never increasing i by one, it would only return one."
   ]
  },
  {
   "cell_type": "code",
   "execution_count": 109,
   "metadata": {},
   "outputs": [
    {
     "name": "stdout",
     "output_type": "stream",
     "text": [
      "168\n"
     ]
    }
   ],
   "source": [
    "#Q2 e) finding no of primes less than 1000\n",
    "#Introducing the global variable count, used to count the number of primes\n",
    "count = 0;\n",
    "def IsPrime(n):\n",
    "    global count\n",
    "    i = 2\n",
    "    if(n == 1):\n",
    "        return 0\n",
    "    while i <= np.sqrt(n):\n",
    "        #For each check if it divides n\n",
    "        if(n % i == 0):\n",
    "            return 0\n",
    "        i += 1\n",
    "    #If no divisors are found, the number is prime\n",
    "    count += 1\n",
    "    return 1\n",
    "     # (b) Fixing first four numbers\n",
    "    if(n < 4):\n",
    "        count += 1\n",
    "        return 1\n",
    "    if(3 < n < 5):\n",
    "        return 0\n",
    "\n",
    "t = 1\n",
    "while t < 1001:\n",
    "    IsPrime(t)\n",
    "    t += 1\n",
    "print (count)"
   ]
  },
  {
   "cell_type": "code",
   "execution_count": 120,
   "metadata": {},
   "outputs": [
    {
     "name": "stdout",
     "output_type": "stream",
     "text": [
      "Primes less than 1000\n",
      "168\n",
      "Primes less than 10000\n",
      "1229\n"
     ]
    }
   ],
   "source": [
    "#Q2 f) prime count function\n",
    "count = 0;\n",
    "def IsPrime(n):\n",
    "    global count\n",
    "    i = 2\n",
    "    if(n == 1):\n",
    "        return 0\n",
    "    while i <= np.sqrt(n):\n",
    "        #For each check if it divides n\n",
    "        if(n % i == 0):\n",
    "            return 0\n",
    "        i += 1\n",
    "    #If no divisors are found, the number is prime\n",
    "    count += 1\n",
    "    return 1\n",
    "     # (b) Fixing first four numbers\n",
    "    if(n < 4):\n",
    "        count += 1\n",
    "        return 1\n",
    "    if(3 < n < 5):\n",
    "        return 0\n",
    "\n",
    "def PrimeCount(x):\n",
    "    t = 1\n",
    "    global count\n",
    "    count = 0\n",
    "    while t <= x:\n",
    "        IsPrime(t)\n",
    "        t += 1\n",
    "    return count\n",
    "\n",
    "print(\"Primes less than 1000\")\n",
    "print(PrimeCount(1000))\n",
    "print(\"Primes less than 10000\")\n",
    "print(PrimeCount(10000))"
   ]
  },
  {
   "cell_type": "code",
   "execution_count": 134,
   "metadata": {},
   "outputs": [
    {
     "data": {
      "image/png": "[encoded data removed]",
      "text/plain": [
       "<Figure size 432x288 with 1 Axes>"
      ]
     },
     "metadata": {
      "needs_background": "light"
     },
     "output_type": "display_data"
    }
   ],
   "source": [
    "#Q2 g) plotting PrimeCount function\n",
    "#Importing numpy and matplotlib\n",
    "import numpy as np\n",
    "import matplotlib.pyplot as plt\n",
    "count = 0;\n",
    "def IsPrime(n):\n",
    "    global count\n",
    "    i = 2\n",
    "    if(n == 1):\n",
    "        return 0\n",
    "    while i <= np.sqrt(n):\n",
    "        #For each check if it divides n\n",
    "        if(n % i == 0):\n",
    "            return 0\n",
    "        i += 1\n",
    "    #If no divisors are found, the number is prime\n",
    "    count += 1\n",
    "    return 1\n",
    "     # (b) Fixing first four numbers\n",
    "    if(n < 4):\n",
    "        count += 1\n",
    "        return 1\n",
    "    if(3 < n < 5):\n",
    "        return 0\n",
    "\n",
    "def PrimeCount(x):\n",
    "    t = 1\n",
    "    global count\n",
    "    count = 0\n",
    "    while t <= x:\n",
    "        IsPrime(t)\n",
    "        t += 1\n",
    "    return count\n",
    "\n",
    "x = np.arange(0,40,1)\n",
    "Pi = np.zeros(40)\n",
    "i = 0\n",
    "while i < np.size(Pi):\n",
    "    Pi[i] = PrimeCount(i)\n",
    "    i+= 1\n",
    "\n",
    "#Plotting Data\n",
    "plt.plot(x,Pi,'ro')\n",
    "#Title and Axes\n",
    "plt.title ('Primes less than 40')\n",
    "plt.ylabel('Pi(x)')\n",
    "plt.xlabel('x')\n",
    "#Fitting data by choosing limits of axes\n",
    "plt.ylim(0,20)\n",
    "plt.xlim(0,40)\n",
    "#Include gridlines\n",
    "plt.grid(True)"
   ]
  },
  {
   "cell_type": "code",
   "execution_count": null,
   "metadata": {},
   "outputs": [],
   "source": []
  },
  {
   "cell_type": "code",
   "execution_count": null,
   "metadata": {},
   "outputs": [],
   "source": []
  },
  {
   "cell_type": "code",
   "execution_count": null,
   "metadata": {},
   "outputs": [],
   "source": []
  }
 ],
 "metadata": {
  "kernelspec": {
   "display_name": "Python 3",
   "language": "python",
   "name": "python3"
  },
  "language_info": {
   "codemirror_mode": {
    "name": "ipython",
    "version": 3
   },
   "file_extension": ".py",
   "mimetype": "text/x-python",
   "name": "python",
   "nbconvert_exporter": "python",
   "pygments_lexer": "ipython3",
   "version": "3.7.3"
  }
 },
 "nbformat": 4,
 "nbformat_minor": 2
}
