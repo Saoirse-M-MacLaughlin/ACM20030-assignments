{
 "cells": [
  {
   "cell_type": "markdown",
   "metadata": {},
   "source": [
    "# ACM20030 - Midterm 2\n",
    "\n",
    "This midterm exam will be distributed at 2pm on Tuesday 21st of April. Five additional minutes are given at the start for you to download and load the notebook. Thus the midterm starts at 2:05pm. The midterm lasts **50 minutes** so you should finish at 2:55pm. You then have 10 minutes to upload the `Midterm2.ipynb` to BrightSpace by 3:05pm.\n",
    "\n",
    "Save your notebook regularly as you are solving the problems.\n",
    "\n",
    "I recommend you have a pen and paper handy to make small calculations (these do not need to be handed in).\n",
    "\n",
    "The marks for each question are given in square brackets at the start of each question. The total marks for the test is 30.\n",
    "\n",
    "You must complete the test indivudually. No contact with other class members, or anyone else, is allowed during the test.\n",
    "\n",
    "When you finish the test you must upload your completed `Midterm2.ipynb` to BrightSpace. You can find the place to upload the file under the Assessments Tab -> Midterm2.\n",
    "\n",
    "If there are any issues with uploading the midterm to BrightSpace. Please email me your completed Midterm2.ipynb before 3:05pm. My email address is niels.warburton@ucd.ie. Please include your student number if you email the test to me.\n",
    "\n",
    "---\n",
    "\n",
    "If you find it useful to do so you may view the [course examples](https://github.com/nielsw2/ACM20030-Examples) for reference. You may also view the NumPy and Matplotlib documentation if you want.  You should not use the internet to search for solutions. It is usually quite obvious when a student hands in code they have copied from, e.g., StackExchange. Please do not do this. If you hand in an answer that is copied from a webpage you will receive zero marks for that entire question.\n",
    "\n",
    "You **may not** use any other Python libraries other than NumPy (including linalg) and Matplotlib. \n",
    "\n",
    "Please enter your student number in the cell below and run the two cells below that to load the libraries."
   ]
  },
  {
   "cell_type": "code",
   "execution_count": 1,
   "metadata": {},
   "outputs": [],
   "source": [
    "# Enter student number below\n",
    "# 18306281"
   ]
  },
  {
   "cell_type": "code",
   "execution_count": 2,
   "metadata": {},
   "outputs": [],
   "source": [
    "# Import NumPy, linalg and matplotlib\n",
    "import numpy as np\n",
    "from numpy import linalg as la\n",
    "import matplotlib.pyplot as plt"
   ]
  },
  {
   "cell_type": "code",
   "execution_count": 3,
   "metadata": {},
   "outputs": [],
   "source": [
    "# The below two lines set the default size and font size for matplotlib\n",
    "plt.rcParams['figure.figsize'] = (16.0, 10.0)\n",
    "plt.rcParams.update({'font.size': 22})"
   ]
  },
  {
   "cell_type": "markdown",
   "metadata": {},
   "source": [
    "# Question 1: numerical integration\n",
    "\n",
    "Use the `SimpsonsIntegrate` function below when answer this question"
   ]
  },
  {
   "cell_type": "code",
   "execution_count": 4,
   "metadata": {},
   "outputs": [],
   "source": [
    "def SimpsonsIntegrate(f, a, b, N):\n",
    "    dx = (b-a)/N\n",
    "    xi = a\n",
    "    i = 0\n",
    "    area = 0\n",
    "    while i < N:\n",
    "        area += dx/6*(f(xi) + 4*f((2*xi+dx)/2) + f(xi+dx))\n",
    "        xi += dx\n",
    "        i+= 1\n",
    "        \n",
    "    return area"
   ]
  },
  {
   "cell_type": "markdown",
   "metadata": {},
   "source": [
    "## Q1a [4 marks]\n",
    "\n",
    "Numerically evaluate $$\\int_0^1 \\sin(x)\\, dx$$\n",
    "\n",
    "Compare your answer to the analytic result and use enough strips in the integration so that the relative error drops below `1e-10`, and show your result is at least this accurate."
   ]
  },
  {
   "cell_type": "code",
   "execution_count": 49,
   "metadata": {},
   "outputs": [
    {
     "name": "stdout",
     "output_type": "stream",
     "text": [
      "Q1 Simpsons = -0.4596976941318598\n",
      "By computation =  -0.45969769413186035\n",
      "difference =  5.551115123125783e-16\n"
     ]
    }
   ],
   "source": [
    "def f(x):\n",
    "    return np.sin(x)\n",
    "\n",
    "Q1Simp = SimpsonsIntegrate(f, 1, 0, 1000)\n",
    "\n",
    "def Computational(a, b):\n",
    "    return np.cos(a) - np.cos(b)\n",
    "\n",
    "print('Q1 Simpsons =', Q1Simp)\n",
    "print('By computation = ', Computational(1,0))\n",
    "print('difference = ', Q1Simp - Computational(1,0))\n",
    "#difference/error is in the order of 1e-16"
   ]
  },
  {
   "cell_type": "markdown",
   "metadata": {},
   "source": [
    "## Q1b [6 marks]\n",
    "\n",
    "By computing the numerical integral using N=10, 100 and 1000 strips, show that the Simpsons method converges as $N^{-4}$ to the correct answer for the above integral. Do this by plotting the difference between the approximations and the true result on a log-log plot, along with a $N^{-4}$ reference line."
   ]
  },
  {
   "cell_type": "code",
   "execution_count": 51,
   "metadata": {},
   "outputs": [
    {
     "name": "stdout",
     "output_type": "stream",
     "text": [
      "N = 10: -0.4596977100983376 N = 100: -0.459697694133456 N = 1000: -0.4596976941318598\n"
     ]
    }
   ],
   "source": [
    "Simp1 = SimpsonsIntegrate(f, 1, 0, 10)\n",
    "Simp2 = SimpsonsIntegrate(f, 1, 0, 100)\n",
    "Simp3 = SimpsonsIntegrate(f, 1, 0, 1000)\n",
    "print('N = 10:',Simp1,'N = 100:',Simp2,'N = 1000:',Simp3)"
   ]
  },
  {
   "cell_type": "markdown",
   "metadata": {},
   "source": [
    "# Question 2 : matrix norms"
   ]
  },
  {
   "cell_type": "markdown",
   "metadata": {},
   "source": [
    "## Q2a [4 marks]\n",
    "\n",
    "The dot product of two vectors $a$, $b$, each of length $n$ is given by\n",
    "\n",
    "$$ a\\cdot b = \\sum_{i=1}^n a_i b_i$$\n",
    "\n",
    "Two sample vectors and their dot product are given below"
   ]
  },
  {
   "cell_type": "code",
   "execution_count": 13,
   "metadata": {},
   "outputs": [
    {
     "name": "stdout",
     "output_type": "stream",
     "text": [
      "The dot product of a and b is: 31.56\n"
     ]
    }
   ],
   "source": [
    "a = np.array([4.5, 6.7, 6.7])\n",
    "b = np.array([8.8, -4.5, 3.3])\n",
    "\n",
    "print(\"The dot product of a and b is:\", np.dot(a,b))"
   ]
  },
  {
   "cell_type": "markdown",
   "metadata": {},
   "source": [
    "Complete the `DotProduct` function below to compute the dot product by using a loop (do not use `np.dot()` or a similar function). Test your answer on the vectors $a$ and $b$."
   ]
  },
  {
   "cell_type": "code",
   "execution_count": 45,
   "metadata": {},
   "outputs": [
    {
     "name": "stdout",
     "output_type": "stream",
     "text": [
      "31.56\n"
     ]
    }
   ],
   "source": [
    "def DotProduct(a,b):\n",
    "    sa = a.shape\n",
    "    sb = b.shape\n",
    "    cols = sa[0]\n",
    "    if (sa != sb):\n",
    "        print('vectors must be same size')\n",
    "        return\n",
    "    dotsum = 0\n",
    "    for col in range(0,cols):\n",
    "        an = a[col]\n",
    "        bn = b[col]\n",
    "        dotsum += (an*bn)\n",
    "    return dotsum\n",
    "\n",
    "print(DotProduct(a,b))"
   ]
  },
  {
   "cell_type": "code",
   "execution_count": null,
   "metadata": {},
   "outputs": [],
   "source": []
  },
  {
   "cell_type": "markdown",
   "metadata": {},
   "source": [
    "## Q2b [6 marks]\n",
    "\n",
    "In the lectures we looked at the $L^2$-norm. Another matrix norm is the Frobenius norm, $\\lVert \\cdot \\rVert_F$ of a $m\\times n$ matrix $A$ is defined as \n",
    "\n",
    "$$ \\lVert A \\rVert_F = \\sqrt{\\sum_{i=1}^m \\sum_{j=1}^n |a_{ij}|^2 }$$\n",
    "\n",
    "Complete the `FrobeniusNorm()` function below make it compute the Frobenius norm of a matrix using loops (don't use `la.norm`, or a similar function). "
   ]
  },
  {
   "cell_type": "code",
   "execution_count": 15,
   "metadata": {},
   "outputs": [],
   "source": [
    "def FrobeniusNorm(A):\n",
    "    s = A.shape\n",
    "    cols = s[0]\n",
    "    rows = s[1]\n",
    "    total = 0\n",
    "    for col in range(0,cols):\n",
    "        rowsum = 0\n",
    "        for row in range(0,rows):\n",
    "            ele = A[col,row]\n",
    "            if ele < 0:\n",
    "                ele = - ele\n",
    "            rowsum += ele**2\n",
    "        total += rowsum\n",
    "    roottotal = np.sqrt(total)\n",
    "    return roottotal"
   ]
  },
  {
   "cell_type": "markdown",
   "metadata": {},
   "source": [
    "Test your function using the below matrix. The `la.norm(A)` function returns the value of the Frobenius norm. You can use this to compare against your answer."
   ]
  },
  {
   "cell_type": "code",
   "execution_count": 26,
   "metadata": {},
   "outputs": [],
   "source": [
    "A = np.array([[1.4,-3.5,4.6],[4.5, 3.5, 6.6],[-7.7,5.5,6.6],[4.5,-4.5,4.3]])"
   ]
  },
  {
   "cell_type": "code",
   "execution_count": 18,
   "metadata": {},
   "outputs": [
    {
     "name": "stdout",
     "output_type": "stream",
     "text": [
      "AFrobeniusNorm = 17.421825392306054\n"
     ]
    }
   ],
   "source": [
    "AFrobeniusNorm = FrobeniusNorm(A)\n",
    "print('AFrobeniusNorm =', AFrobeniusNorm)"
   ]
  },
  {
   "cell_type": "markdown",
   "metadata": {},
   "source": [
    "# Question 3: eigensystems\n",
    "\n",
    "\n",
    "## Q3a [4 marks]\n",
    "\n",
    "\n",
    "Using `la.eig()` compute the eigenvalues and eigenvectors of the matrix B below. Use a `for` loop that evaluates the left hand side of\n",
    "\n",
    "$$ B.x - \\lambda x =0$$\n",
    "\n",
    "for each eigenvalue/eigenvector pair.\n",
    "\n",
    "Reminder: `la.eig()` returns the eigenvalues and eigenvectors, and the eigenvectors are stored as the columns of a matrix.\n",
    "\n",
    "Suggestion: write code that first tests one eigenvalue/eigenvector pair then write the loop that tests each pair in turn"
   ]
  },
  {
   "cell_type": "code",
   "execution_count": 20,
   "metadata": {},
   "outputs": [
    {
     "name": "stdout",
     "output_type": "stream",
     "text": [
      "(array([13.50189951, -2.23566197, -4.56623754]), array([[-0.48410682, -0.39044521, -0.39740521],\n",
      "       [-0.72528947,  0.81669186, -0.44498051],\n",
      "       [-0.48948522, -0.42493169,  0.80253439]]))\n"
     ]
    }
   ],
   "source": [
    "B = np.array([[1.3, 4.5, 5.4], [5.6, 4.5 ,7.8], [6.0, 4.5,0.9]])\n",
    "print(la.eig(B))"
   ]
  },
  {
   "cell_type": "code",
   "execution_count": 23,
   "metadata": {},
   "outputs": [
    {
     "data": {
      "text/plain": [
       "True"
      ]
     },
     "execution_count": 23,
     "metadata": {},
     "output_type": "execute_result"
    }
   ],
   "source": [
    "def EigenEquation(Mat):\n",
    "    eigen = la.eig(Mat)\n",
    "    values = eigen[0]\n",
    "    vectors = eigen[1]\n",
    "    sv = vectors.shape\n",
    "    cols = sv[0]\n",
    "    rows = sv[1]\n",
    "    allokay = True\n",
    "    for row in range(0,rows):\n",
    "        Vec = vectors[:,row]\n",
    "        Val = values[row]\n",
    "        mv = Val*Vec\n",
    "        mm = Mat.dot(Vec)\n",
    "        if not np.allclose(mm,mv):\n",
    "            allokay = False\n",
    "            \n",
    "    return allokay\n",
    "\n",
    "EigenEquation(B)"
   ]
  },
  {
   "cell_type": "markdown",
   "metadata": {},
   "source": [
    "## Q3b [2 marks]\n",
    "\n",
    "As we discused in the lectures, one way to define the condition number of a matrix is given by \n",
    "\n",
    "$$\\kappa(A) = \\lVert A \\lVert_2 \\lVert A^{-1} \\rVert_2 $$\n",
    "\n",
    "Compute $\\kappa(B)$ using this formula and where `B` is the matrix defined in Q3a. You may use `la.inv(B)` and `la.norm(B,2)` in this question.\n",
    "\n",
    "Hint: you can check you result against `la.cond(B,2)`"
   ]
  },
  {
   "cell_type": "code",
   "execution_count": 24,
   "metadata": {},
   "outputs": [
    {
     "name": "stdout",
     "output_type": "stream",
     "text": [
      "Condition Function =  6.783752998324855\n",
      "check =  6.783752998324849\n"
     ]
    }
   ],
   "source": [
    "def ConditionNo(Mat):\n",
    "    return la.norm(Mat,2)*la.norm(la.inv(Mat),2)\n",
    "\n",
    "print('Condition Function = ', ConditionNo(B))\n",
    "print('check = ', la.cond(B,2))"
   ]
  },
  {
   "cell_type": "markdown",
   "metadata": {},
   "source": [
    "## Q3c [4 marks]\n",
    "\n",
    "As we discussed in the lectures you can also compute the condition number via \n",
    "\n",
    "$$\\kappa(A) = \\sqrt{\\frac{\\lambda_\\max}{\\lambda_\\min}}$$\n",
    "\n",
    "where $\\lambda_{\\max/\\min}$ are the minimum and maximum eigenvalues of $A^T A$\n",
    "\n",
    "Using `np.transpose()`, `la.eig()` to compute the eigenvalues, compute the condition number of $A$ using the above formula."
   ]
  },
  {
   "cell_type": "code",
   "execution_count": 43,
   "metadata": {},
   "outputs": [
    {
     "name": "stdout",
     "output_type": "stream",
     "text": [
      "[ 1.48632424e+02  1.24925179e+02  2.99623963e+01 -7.10542736e-15]\n",
      "Condition Number =  2.2272476481436443\n"
     ]
    }
   ],
   "source": [
    "def ConditionEquation2(Mat):\n",
    "    AtA = Mat.dot(np.transpose(Mat))\n",
    "    eigen = la.eig(AtA)\n",
    "    values = eigen[0]\n",
    "    sortedvalues = np.flip(np.sort(values))\n",
    "    print(sortedvalues)\n",
    "    Lmax = sortedvalues[0]\n",
    "    Lmin = sortedvalues[2]\n",
    "    Q = Lmax/Lmin\n",
    "    if Q < 0:\n",
    "        Q = - Q\n",
    "    return np.sqrt(Q)\n",
    "\n",
    "print('Condition Number = ', ConditionEquation2(A))"
   ]
  },
  {
   "cell_type": "markdown",
   "metadata": {},
   "source": [
    "# Submission\n",
    "\n",
    "You must upload your completed `Midterm2.ipynb` to BrightSpace. You can find the place to upload the file under the Assessments Tab -> Midterm2.\n",
    "\n",
    "If there are any issues with uploading the midterm to BrightSpace. Please email me your completed Midterm2.ipynb. My email address is niels.warburton@ucd.ie."
   ]
  },
  {
   "cell_type": "code",
   "execution_count": null,
   "metadata": {},
   "outputs": [],
   "source": []
  }
 ],
 "metadata": {
  "kernelspec": {
   "display_name": "Python 3",
   "language": "python",
   "name": "python3"
  },
  "language_info": {
   "codemirror_mode": {
    "name": "ipython",
    "version": 3
   },
   "file_extension": ".py",
   "mimetype": "text/x-python",
   "name": "python",
   "nbconvert_exporter": "python",
   "pygments_lexer": "ipython3",
   "version": "3.7.3"
  }
 },
 "nbformat": 4,
 "nbformat_minor": 2
}
