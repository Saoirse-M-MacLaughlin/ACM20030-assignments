{
 "cells": [
  {
   "cell_type": "markdown",
   "metadata": {},
   "source": [
    "#  Assignment 5\n",
    "\n",
    "This assignment covers material on matrices, norms, condition numbers and eigensystems. The assignment is due by 5pm on Friday the 17th of April.\n",
    "\n",
    "The breakdown of the marks is as follows:\n",
    "\n",
    "Question 0 - [1 mark]  \n",
    "Question 1 - [7 marks]  \n",
    "Questino 2 - [6 marks]  \n",
    "Question 3 - [7 marks]  \n",
    "Question 4 - [9 marks]  "
   ]
  },
  {
   "cell_type": "markdown",
   "metadata": {},
   "source": [
    "# Question 0\n",
    "\n",
    "You should have saved this notebook to your ACM20030-Assignments folder. Now:\n",
    "- commit the notebook to your local repository\n",
    "- push the changes to the GitHub"
   ]
  },
  {
   "cell_type": "code",
   "execution_count": 1,
   "metadata": {},
   "outputs": [],
   "source": [
    "import numpy as np\n",
    "from numpy import linalg as la\n",
    "np.set_printoptions(linewidth=200)  # This stops line wrapping of larger matrices"
   ]
  },
  {
   "cell_type": "markdown",
   "metadata": {},
   "source": [
    "# Question 1 - practice manipulating arrays\n",
    "\n",
    "This questions asks you write a few functions for manipulating arrays of data"
   ]
  },
  {
   "cell_type": "markdown",
   "metadata": {},
   "source": [
    "## Q1 a\n",
    "\n",
    "Write a function that checks if a given $n\\times n$ matrix is symmetric. Use only loops and `.shape` function from numpy (do not use any other special numpy functions)."
   ]
  },
  {
   "cell_type": "code",
   "execution_count": 2,
   "metadata": {},
   "outputs": [
    {
     "name": "stdout",
     "output_type": "stream",
     "text": [
      "[[0.95984068 0.68367203 0.33102053 0.76046285 0.55396334 0.27290116]\n",
      " [0.8117619  0.7205994  0.63108069 0.84022481 0.52750107 0.60951675]\n",
      " [0.44972118 0.41503033 0.68849505 0.17843501 0.13289349 0.03742895]\n",
      " [0.18605037 0.65424076 0.47670471 0.31800542 0.37614922 0.69394066]]\n",
      "cols = 4  rows= 6\n",
      "A False\n",
      "[[1 2]\n",
      " [3 4]]\n",
      "cols = 2  rows= 2\n",
      "B False\n",
      "cols = 2  rows= 2\n",
      "C True\n"
     ]
    }
   ],
   "source": [
    "def CheckMatSym(mat):\n",
    "    s = mat.shape\n",
    "    cols = s[0]\n",
    "    rows = s[1]\n",
    "    print('cols =',cols,' rows=',rows)\n",
    "    if rows != cols:\n",
    "        return False\n",
    "    row = 0\n",
    "    while row < rows:\n",
    "        col = 0\n",
    "        while col < cols:\n",
    "            if mat[row,col] != mat[col,row]:\n",
    "                return False\n",
    "            col += 1\n",
    "        row += 1\n",
    "    return True\n",
    "    \n",
    "\n",
    "A = np.random.rand(4,6)    \n",
    "print(A)\n",
    "print('A',CheckMatSym(A))\n",
    "B = np.matrix([[1, 2], [3, 4]])\n",
    "print(B)\n",
    "print('B',CheckMatSym(B))\n",
    "C = np.matrix([[1, 2], [2, 1]])\n",
    "print('C',CheckMatSym(C))\n"
   ]
  },
  {
   "cell_type": "markdown",
   "metadata": {},
   "source": [
    "Test your function on the two matrices below"
   ]
  },
  {
   "cell_type": "code",
   "execution_count": 3,
   "metadata": {},
   "outputs": [],
   "source": [
    "A = np.random.rand(5,5)\n",
    "SymMatrix = (A + A.T)/2"
   ]
  },
  {
   "cell_type": "code",
   "execution_count": 4,
   "metadata": {},
   "outputs": [
    {
     "name": "stdout",
     "output_type": "stream",
     "text": [
      "cols = 5  rows= 5\n"
     ]
    },
    {
     "data": {
      "text/plain": [
       "False"
      ]
     },
     "execution_count": 4,
     "metadata": {},
     "output_type": "execute_result"
    }
   ],
   "source": [
    "CheckMatSym(A)"
   ]
  },
  {
   "cell_type": "code",
   "execution_count": 5,
   "metadata": {},
   "outputs": [
    {
     "name": "stdout",
     "output_type": "stream",
     "text": [
      "cols = 5  rows= 5\n"
     ]
    },
    {
     "data": {
      "text/plain": [
       "True"
      ]
     },
     "execution_count": 5,
     "metadata": {},
     "output_type": "execute_result"
    }
   ],
   "source": [
    "CheckMatSym(SymMatrix)"
   ]
  },
  {
   "cell_type": "markdown",
   "metadata": {},
   "source": [
    "## Q1 b\n",
    "\n",
    "Write a function to transpose a general $n\\times n$ matrix. Do this by writing loops and not using any special functions like `np.transpose()`, `A.T`, or any functions from any other library."
   ]
  },
  {
   "cell_type": "code",
   "execution_count": 6,
   "metadata": {},
   "outputs": [],
   "source": [
    "def Transpose(mat):\n",
    "    s = mat.shape\n",
    "    cols = s[0]\n",
    "    rows = s[1]\n",
    "    print('cols =',cols,' rows=',rows)\n",
    "    t = np.zeros((rows,cols))\n",
    "#    t.shape = (rows,cols)\n",
    "    row = 0\n",
    "    while row < rows:\n",
    "        col = 0\n",
    "        while col < cols:\n",
    "            t[row,col] = mat[col,row]\n",
    "            col += 1\n",
    "        row += 1\n",
    "    return t\n",
    "    "
   ]
  },
  {
   "cell_type": "markdown",
   "metadata": {},
   "source": [
    "Check your code by transposing the below random matrix and checking that $A^T \\neq A$ and $(A^T)^T - A = 0$"
   ]
  },
  {
   "cell_type": "code",
   "execution_count": 7,
   "metadata": {
    "scrolled": false
   },
   "outputs": [
    {
     "name": "stdout",
     "output_type": "stream",
     "text": [
      "A= [[0.54813906 0.89277369 0.31163987 0.24466411 0.8047924  0.74165555]\n",
      " [0.001962   0.57256765 0.525064   0.01002904 0.48652451 0.62274451]\n",
      " [0.37938504 0.25360631 0.01768344 0.31796383 0.79550079 0.20959964]\n",
      " [0.29184913 0.06942022 0.02710317 0.98153022 0.3713965  0.63631841]\n",
      " [0.95418871 0.63307301 0.26832472 0.31768018 0.30405801 0.834741  ]\n",
      " [0.19546636 0.12615883 0.19122319 0.59945754 0.65470353 0.55584935]]\n",
      "cols = 6  rows= 6\n",
      "Transpose of A= [[0.54813906 0.001962   0.37938504 0.29184913 0.95418871 0.19546636]\n",
      " [0.89277369 0.57256765 0.25360631 0.06942022 0.63307301 0.12615883]\n",
      " [0.31163987 0.525064   0.01768344 0.02710317 0.26832472 0.19122319]\n",
      " [0.24466411 0.01002904 0.31796383 0.98153022 0.31768018 0.59945754]\n",
      " [0.8047924  0.48652451 0.79550079 0.3713965  0.30405801 0.65470353]\n",
      " [0.74165555 0.62274451 0.20959964 0.63631841 0.834741   0.55584935]]\n",
      "cols = 6  rows= 6\n",
      "A - A transpose= [[ 0.         -0.89081169  0.06774517  0.04718502  0.14939632 -0.54618919]\n",
      " [ 0.89081169  0.         -0.27145769  0.05939118  0.1465485  -0.49658568]\n",
      " [-0.06774517  0.27145769  0.         -0.29086066 -0.52717608 -0.01837645]\n",
      " [-0.04718502 -0.05939118  0.29086066  0.         -0.05371633 -0.03686087]\n",
      " [-0.14939632 -0.1465485   0.52717608  0.05371633  0.         -0.18003746]\n",
      " [ 0.54618919  0.49658568  0.01837645  0.03686087  0.18003746  0.        ]]\n",
      "cols = 6  rows= 6\n",
      "cols = 6  rows= 6\n",
      "[[0. 0. 0. 0. 0. 0.]\n",
      " [0. 0. 0. 0. 0. 0.]\n",
      " [0. 0. 0. 0. 0. 0.]\n",
      " [0. 0. 0. 0. 0. 0.]\n",
      " [0. 0. 0. 0. 0. 0.]\n",
      " [0. 0. 0. 0. 0. 0.]]\n"
     ]
    }
   ],
   "source": [
    "A = np.random.rand(6,6)\n",
    "print('A=',A)\n",
    "print('Transpose of A=',Transpose(A))\n",
    "\n",
    "#Check A - A Transpose != 0\n",
    "print('A - A transpose=',Transpose(A) - A)\n",
    "\n",
    "#Check (𝐴𝑇)𝑇−𝐴=0\n",
    "ATranA = Transpose(Transpose(A))\n",
    "print(ATranA - A)"
   ]
  },
  {
   "cell_type": "markdown",
   "metadata": {},
   "source": [
    "## Q1c\n",
    "\n",
    "Write a function that finds the maximum entry in a matrix (where the matrix does not need to be square). Do this by writing loops and not using any special functions like `np.max` or any functions from any other library."
   ]
  },
  {
   "cell_type": "code",
   "execution_count": 8,
   "metadata": {},
   "outputs": [],
   "source": [
    "def MaxEntry(mat):\n",
    "    s = mat.shape\n",
    "    cols = s[0]\n",
    "    rows = s[1]\n",
    "    max = 0\n",
    "    for row in range(0, rows):\n",
    "        for col in range(0, cols):\n",
    "            if ((col == 0) and (row == 0)) or (mat[col,row] > max):\n",
    "                max = mat[col,row]\n",
    "    return max\n"
   ]
  },
  {
   "cell_type": "markdown",
   "metadata": {},
   "source": [
    "Check your result by comparing to `np.max(A)` for the below random matrix"
   ]
  },
  {
   "cell_type": "code",
   "execution_count": 9,
   "metadata": {},
   "outputs": [
    {
     "name": "stdout",
     "output_type": "stream",
     "text": [
      "[[0.07951192 0.78435091 0.77108017 0.19404516 0.98088884]\n",
      " [0.02643235 0.49372812 0.24665752 0.11725343 0.90267395]\n",
      " [0.69841124 0.51632601 0.67605749 0.91630225 0.9960726 ]\n",
      " [0.29097314 0.17017639 0.72872489 0.90182608 0.10825457]]\n",
      "Max= 0.9960725989589152\n",
      "np.max= 0.9960725989589152\n"
     ]
    }
   ],
   "source": [
    "A = np.random.rand(4,5)\n",
    "print(A)\n",
    "print('Max=',MaxEntry(A))\n",
    "print('np.max=',np.max(A))"
   ]
  },
  {
   "cell_type": "markdown",
   "metadata": {},
   "source": [
    "# Question 2:  matrix norms\n",
    "\n",
    "In the lectures we focused on the $L^2$-norm. We also briefly mentioned the $L^1$ and $L^\\infty$ norm. Let's look at calculating those as well for a general $m\\times n$ matrix."
   ]
  },
  {
   "cell_type": "markdown",
   "metadata": {},
   "source": [
    "# Q2a\n",
    "\n",
    "The $L^1$ norm is given by\n",
    "\n",
    "$$ \\lVert A \\rVert_1 = \\max_j \\sum^m_{i=1} |a_{ij}| $$\n",
    "\n",
    "i.e., it is the max of the sums of the absolute values of each column. Write a function that computes the $L^1$-norm using only loops. The function should use no special numpy functions except `np.abs()`."
   ]
  },
  {
   "cell_type": "code",
   "execution_count": 10,
   "metadata": {},
   "outputs": [],
   "source": [
    "def L1Norm(mat):\n",
    "    s = mat.shape\n",
    "    cols = s[0]\n",
    "    rows = s[1]\n",
    "    colmax = 0\n",
    "    for row in range(0, rows):\n",
    "        colsum = 0;\n",
    "        for col in range(0, cols):\n",
    "            ele = mat[col,row]\n",
    "            if ele < 0:\n",
    "                ele = -ele\n",
    "            colsum += ele\n",
    "        if (row == 0) or (colsum > colmax):\n",
    "             colmax = colsum\n",
    "    return colmax\n",
    "    "
   ]
  },
  {
   "cell_type": "markdown",
   "metadata": {},
   "source": [
    "Check your result against NumPy's `la.norm(A,1)` function for the following random matrix"
   ]
  },
  {
   "cell_type": "code",
   "execution_count": 11,
   "metadata": {},
   "outputs": [
    {
     "name": "stdout",
     "output_type": "stream",
     "text": [
      "[[0.82518476 0.94717488 0.5590027  0.44239937]\n",
      " [0.25633983 0.73041276 0.87563928 0.82301787]\n",
      " [0.97723729 0.90159765 0.31388852 0.97170007]]\n",
      "L1Norm= 2.579185290601548\n",
      "la.norm= 2.579185290601548\n"
     ]
    }
   ],
   "source": [
    "A = np.random.rand(3,4)\n",
    "print(A)\n",
    "print('L1Norm=',L1Norm(A))\n",
    "print('la.norm=',la.norm(A,1))"
   ]
  },
  {
   "cell_type": "markdown",
   "metadata": {},
   "source": [
    "## Q2b\n",
    "\n",
    "The $L^\\infty$ norm is given by \n",
    "\n",
    "$$\\lVert A \\rVert_\\infty = \\max_i \\sum_{j=1}^n |a_{ij}|$$\n",
    "\n",
    "i.e., it is the max of the sums of the absolute values of each row. Write a function that computes the $L^\\infty$-norm using only loops and no special numpy functions."
   ]
  },
  {
   "cell_type": "code",
   "execution_count": 12,
   "metadata": {},
   "outputs": [],
   "source": [
    "def LInf(mat):\n",
    "    s = mat.shape\n",
    "    cols = s[0]\n",
    "    rows = s[1]\n",
    "    rowmax = 0\n",
    "    for col in range(0, cols):\n",
    "        rowsum = 0;\n",
    "        for row in range(0, rows):\n",
    "            ele = mat[col,row]\n",
    "            if ele < 0:\n",
    "                ele = -ele\n",
    "            rowsum += ele\n",
    "        if (col == 0) or (rowsum > rowmax):\n",
    "             rowmax = rowsum\n",
    "    return rowmax\n",
    "    "
   ]
  },
  {
   "cell_type": "markdown",
   "metadata": {},
   "source": [
    "Check your result against NumPy's `la.norm(A,np.inf)` function for the following random matrix"
   ]
  },
  {
   "cell_type": "code",
   "execution_count": 13,
   "metadata": {},
   "outputs": [
    {
     "name": "stdout",
     "output_type": "stream",
     "text": [
      "[[0.70709805 0.26101755 0.27004471 0.19041637]\n",
      " [0.892787   0.13116847 0.86692788 0.60147664]\n",
      " [0.71357246 0.16422626 0.55670228 0.61009864]]\n",
      "LInf= 2.492359991389556\n",
      "la.norm(A,np.inf)= 2.492359991389556\n"
     ]
    }
   ],
   "source": [
    "A = np.random.rand(3,4)\n",
    "print(A)\n",
    "print('LInf=',LInf(A))\n",
    "print('la.norm(A,np.inf)=',la.norm(A,np.inf))"
   ]
  },
  {
   "cell_type": "markdown",
   "metadata": {},
   "source": [
    "# Question 3: ill-conditions systems of equations\n",
    "\n",
    "In this question you can use any of NumPy's functions.\n",
    "\n",
    "## Q3a\n",
    "\n",
    "Which of the following three matrices, $A1, A2, A3$, are ill-conditioned. State the reason for your conclusion."
   ]
  },
  {
   "cell_type": "code",
   "execution_count": 14,
   "metadata": {},
   "outputs": [],
   "source": [
    "A1 = np.array([[0.988746460106, 0.351486109477, 0.024911477532, 0.384039749683],\n",
    "       [0.282104657306, 0.239884151775, 0.36170151991 , 0.903082266861],\n",
    "       [0.59333290915 , 0.637178863968, 0.241229214635, 0.685595037901],\n",
    "       [0.013591747828, 0.917926970364, 0.458689093885, 0.157821121254]])\n",
    "\n",
    "A2 = np.array([[ 2.852416473483e-01,  3.803483118694e-01,  2.697704226632e-01,  6.810611849029e-01],\n",
    "       [ 6.622827828376e-01,  6.447943415836e-01,  4.387842058829e-01,  1.530575702376e+00],\n",
    "       [ 3.672130860703e-01,  8.309522079704e-01,  9.975487474007e-01,  5.678296337101e-01],\n",
    "       [ 4.036490000599e-01,  6.865978225967e-06,  8.788095913773e-01, -7.150472427928e-02]])\n",
    "\n",
    "A3 = np.array([[0.131923621844, 0.245316154195, 0.732362341613, 0.957047891764],\n",
    "       [0.91290446184 , 0.512312007959, 0.391938831444, 0.092509684772],\n",
    "       [0.648708523652, 0.608576675797, 0.576773587276, 0.065385122929],\n",
    "       [0.502955480393, 0.084082960221, 0.659487390444, 0.662958739412]])"
   ]
  },
  {
   "cell_type": "code",
   "execution_count": 15,
   "metadata": {},
   "outputs": [
    {
     "name": "stdout",
     "output_type": "stream",
     "text": [
      "Condition number of A1 21.552466488381857\n",
      "Condition number of A2 13334923332.407896\n",
      "Condition number of A3 15.122449699410629\n"
     ]
    }
   ],
   "source": [
    "def ConditionNumber(A):\n",
    "    return la.norm(A,2)*la.norm(la.inv(A),2)\n",
    "\n",
    "print(\"Condition number of A1\",ConditionNumber(A1))\n",
    "print(\"Condition number of A2\",ConditionNumber(A2))\n",
    "print(\"Condition number of A3\",ConditionNumber(A3))"
   ]
  },
  {
   "cell_type": "code",
   "execution_count": 16,
   "metadata": {},
   "outputs": [],
   "source": [
    "#Matrix A2 is the most ill-coditioned as it has the largest condirion number of all the matrices.\n",
    "#Matrix A3 is the least ill-conditioned as it has the condition number closest to one."
   ]
  },
  {
   "cell_type": "markdown",
   "metadata": {},
   "source": [
    "# Q3b\n",
    "\n",
    "With $b = [1,2,3,4]$ and $\\delta b = [0.1,0,0,0]$ for $A2$ and $A3$ calculate the percentage change in $x$ due to a small change in $b$, i.e., calculate \n",
    "\n",
    "$$100\\times\\frac{\\lVert \\delta x_i\\rVert_2}{\\lVert x_i \\rVert_2}\\quad\\text{and}\\quad 100\\times\\frac{\\lVert \\delta b\\rVert_2}{\\lVert b \\rVert_2}$$\n",
    "\n",
    "where $(x_i+\\delta x_i)  = A_i^{-1}(b+\\delta b)$ and $i\\in\\{2,3\\}$."
   ]
  },
  {
   "cell_type": "code",
   "execution_count": 17,
   "metadata": {},
   "outputs": [
    {
     "name": "stdout",
     "output_type": "stream",
     "text": [
      "Percentage change in b =  1.8257418583505536\n",
      "Percentage change in x for A2 = 7.27510078139363\n",
      "Percentage change in x for A3 = 1.5501828999182938\n"
     ]
    }
   ],
   "source": [
    "b = np.array([1,2,3,4])\n",
    "db = np.array([0.1,0,0,0])\n",
    "print(\"Percentage change in b = \",(la.norm(db,2)/la.norm(b,2))*100)\n",
    "\n",
    "xdxA2 = la.inv(A2)*(b + db)\n",
    "xdxA3 = la.inv(A3)*(b + db)\n",
    "\n",
    "x2 = la.inv(A2)*b\n",
    "x3 = la.inv(A3)*b\n",
    "\n",
    "dx2 = xdxA2 - x2\n",
    "dx3 = xdxA3 - x3\n",
    "\n",
    "print('Percentage change in x for A2 =', (la.norm(dx2,2)/la.norm(x2,2))*100)\n",
    "print('Percentage change in x for A3 =', (la.norm(dx3,2)/la.norm(x3,2))*100)"
   ]
  },
  {
   "cell_type": "markdown",
   "metadata": {},
   "source": [
    "Which system of equations is more sensitive to small changes in $b$? How could you have guessed this from the answer to the Q3a?"
   ]
  },
  {
   "cell_type": "code",
   "execution_count": 18,
   "metadata": {},
   "outputs": [],
   "source": [
    "# A2 is more sensitive than A3 to small changes in b.\n",
    "#This was expected due to the calculated condition numbers from 3a."
   ]
  },
  {
   "cell_type": "markdown",
   "metadata": {},
   "source": [
    "# Question 4: eigensystems\n",
    "\n",
    "In this question we look at finding eigenvalues and eigenvectors\n",
    "\n",
    "## Q4a\n",
    "\n",
    "You may use any of NumPy's functions for this sub-question.\n",
    "\n",
    "Find the eigenvalues and eigenvectors for the below matrix. Print out the eigenvalues sorted by descending value and explicitly show that eigenvalues/eigenvector pairs satisfy $Ax = \\lambda x$."
   ]
  },
  {
   "cell_type": "code",
   "execution_count": 19,
   "metadata": {},
   "outputs": [],
   "source": [
    "A = np.array([[1,4,5],[4,5,4],[6,7,9]])"
   ]
  },
  {
   "cell_type": "code",
   "execution_count": 21,
   "metadata": {},
   "outputs": [
    {
     "name": "stdout",
     "output_type": "stream",
     "text": [
      "Eigenvalue of A =  (array([15.78569318, -2.05164645,  1.26595327]), array([[-0.39252008, -0.89589878,  0.09818766],\n",
      "       [-0.44424151,  0.36255198, -0.77454142],\n",
      "       [-0.80534308,  0.25675168,  0.6248558 ]]))\n",
      "sorted values [15.78569318  1.26595327 -2.05164645]\n",
      "True\n",
      "True\n",
      "True\n"
     ]
    }
   ],
   "source": [
    "eigen = la.eig(A)\n",
    "values = eigen[0]\n",
    "vectors = eigen[1]\n",
    "sortedvalues = np.flip(np.sort(values))\n",
    "print('Eigenvalue of A = ',la.eig(A))\n",
    "print(\"sorted values\",sortedvalues)\n",
    "\n",
    "def EigenvalueConfirmation(Mat, Vec, Val):\n",
    "    mv = Val*Vec\n",
    "    mm = Mat.dot(Vec)\n",
    "    if np.allclose(mm, mv):  # np.equal not suitable as too specific\n",
    "        print(True)\n",
    "    else:\n",
    "        print(False)\n",
    "        \n",
    "EigenvalueConfirmation(A,vectors[:,0],values[0])\n",
    "EigenvalueConfirmation(A,vectors[:,1],values[1])\n",
    "EigenvalueConfirmation(A,vectors[:,2],values[2])"
   ]
  },
  {
   "cell_type": "markdown",
   "metadata": {},
   "source": [
    "# Q4b\n",
    "\n",
    "Without using NumPy's `la.eig()` (or similar functions), find the 4 eigenvalues and eigenvectors of the following matrix. Hint: Use the power method for the max eigenvalue (given below in `MaxEigenvalue`), the power method applied to the inverse for the smallest eigenvalue, and apply Hotelling's deflation twice to find the second and third eigenvalues/eigenvectors."
   ]
  },
  {
   "cell_type": "code",
   "execution_count": 22,
   "metadata": {},
   "outputs": [],
   "source": [
    "A = np.array([[1.935052353404, 0.887037260957, 1.534235483277, 1.370691224125],\n",
    "       [0.887037260957, 0.81275989158 , 0.610238622918, 0.999150521052],\n",
    "       [1.534235483277, 0.610238622918, 1.562260333538, 1.007843062517],\n",
    "       [1.370691224125, 0.999150521052, 1.007843062517, 1.813258814483]])"
   ]
  },
  {
   "cell_type": "code",
   "execution_count": 25,
   "metadata": {},
   "outputs": [],
   "source": [
    "def MaxEigenvalue(A, err):\n",
    "    (m,n) = A.shape\n",
    "    if(m != n):\n",
    "        print(\"Matrix must be square\")\n",
    "        return\n",
    "    x = np.random.rand(m)\n",
    "    \n",
    "    lam = 0.1\n",
    "    lamprev = 1\n",
    "    iterations = 0\n",
    "    while np.abs(1-lam/lamprev) > err:\n",
    "        Ax = A@x\n",
    "        lamprev = lam\n",
    "        lam = la.norm(Ax,2)/la.norm(x,2)\n",
    "        x = Ax\n",
    "        iterations += 1\n",
    "        if(iterations > 1000):\n",
    "            print('looping...', np.abs(1-lam/lamprev))\n",
    "            if(iterations > 1010):\n",
    "                return\n",
    "    x = x/la.norm(x)\n",
    "    return (lam,x)\n",
    "\n",
    "def MinEigenSymmetricPositiveDefinite(A,err):\n",
    "    (m,n) = A.shape\n",
    "    if (m != n):\n",
    "        print('Matrix not square!')\n",
    "        return\n",
    "    lmax = MaxEigenvalue(A,err)[0]\n",
    "    B = A - np.identity(m)*lmax\n",
    "    eigBmax = MaxEigenvalue(B,err)\n",
    "    return (-eigBmax[0] + lmax, eigBmax[1])\n",
    "\n",
    "MaxErr = 1e-5\n",
    "MaxEigen = MaxEigenvalue(A, MaxErr)\n",
    "MinEigen = MinEigenSymmetricPositiveDefinite(A, MaxErr)\n",
    "\n",
    "def Hotelling(A,err):\n",
    "    MaxEigen = MaxEigenvalue(A, MaxErr)\n",
    "    MinEigen = MinEigenSymmetricPositiveDefinite(A, MaxErr)\n",
    "    l1 = MaxEigen[0]\n",
    "    e1 = MaxEigen[1]\n",
    "    B = A - l1*np.outer(e1,e1)\n",
    "    return B\n",
    "\n",
    "B = Hotelling(A,MaxErr)\n",
    "C = Hotelling(B,MaxErr)"
   ]
  },
  {
   "cell_type": "code",
   "execution_count": 26,
   "metadata": {},
   "outputs": [
    {
     "name": "stdout",
     "output_type": "stream",
     "text": [
      "Max Lambda = (4.9148036722209545, array([0.59944659, 0.33322597, 0.49522446, 0.53327008]))\n",
      "Min Lambda = (0.14437214401625642, array([-0.57123348,  0.62424289,  0.49198944, -0.20484021]))\n",
      "Hotelling1 = (0.8505815517279447, array([ 0.30706406, -0.38948544,  0.58278702, -0.64371736]))\n",
      "Hotelling2 = (0.21512741064160767, array([ 0.38296855,  0.67233442, -0.34125584, -0.53370963]))\n"
     ]
    }
   ],
   "source": [
    "print('Max Lambda =', MaxEigen)\n",
    "print('Min Lambda =', MinEigen)\n",
    "print('Hotelling1 =', MaxEigenvalue(B, MaxErr))\n",
    "print('Hotelling2 =', MaxEigenvalue(C, MaxErr))"
   ]
  },
  {
   "cell_type": "markdown",
   "metadata": {},
   "source": [
    "Check your answers against Numpy's results from `la.eig(A)`"
   ]
  },
  {
   "cell_type": "code",
   "execution_count": 27,
   "metadata": {},
   "outputs": [
    {
     "name": "stdout",
     "output_type": "stream",
     "text": [
      "Comfirmed Eigenvalues and vectors =  (array([4.91480442, 0.85058153, 0.14281707, 0.21512836]), array([[ 0.59947641,  0.30724064, -0.63319959, -0.3811686 ],\n",
      "       [ 0.33318806, -0.3894447 ,  0.53214542, -0.67389895],\n",
      "       [ 0.49528112,  0.58292464,  0.54707607,  0.34000478],\n",
      "       [ 0.53320761, -0.64353313, -0.12879172,  0.53382343]]))\n"
     ]
    }
   ],
   "source": [
    "print('Comfirmed Eigenvalues and vectors = ', la.eig(A))"
   ]
  },
  {
   "cell_type": "code",
   "execution_count": null,
   "metadata": {},
   "outputs": [],
   "source": []
  }
 ],
 "metadata": {
  "kernelspec": {
   "display_name": "Python 3",
   "language": "python",
   "name": "python3"
  },
  "language_info": {
   "codemirror_mode": {
    "name": "ipython",
    "version": 3
   },
   "file_extension": ".py",
   "mimetype": "text/x-python",
   "name": "python",
   "nbconvert_exporter": "python",
   "pygments_lexer": "ipython3",
   "version": "3.7.3"
  }
 },
 "nbformat": 4,
 "nbformat_minor": 2
}
